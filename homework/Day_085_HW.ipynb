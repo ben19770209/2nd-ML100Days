{
 "cells": [
  {
   "cell_type": "code",
   "execution_count": 1,
   "metadata": {},
   "outputs": [],
   "source": [
    "# https://github.com/plaidml/plaidml\n",
    "# https://informatics.sydney.edu.au/blogs/amdgpu/\n",
    "\n",
    "# Install the plaidml backend\n",
    "import plaidml.keras\n",
    "plaidml.keras.install_backend()"
   ]
  },
  {
   "cell_type": "markdown",
   "metadata": {},
   "source": [
    "## Work\n",
    "1. 試改變 monitor \"Validation Accuracy\" 並比較結果\n",
    "2. 調整 earlystop 的等待次數至 10, 25 並比較結果"
   ]
  },
  {
   "cell_type": "code",
   "execution_count": 2,
   "metadata": {},
   "outputs": [],
   "source": [
    "import os\n",
    "import keras\n",
    "import matplotlib.pyplot as plt\n",
    "%matplotlib inline\n",
    "\n",
    "\n",
    "# Disable GPU\n",
    "os.environ[\"CUDA_VISIBLE_DEVICES\"] = \"\""
   ]
  },
  {
   "cell_type": "code",
   "execution_count": 3,
   "metadata": {},
   "outputs": [],
   "source": [
    "train, test = keras.datasets.cifar10.load_data()"
   ]
  },
  {
   "cell_type": "code",
   "execution_count": 4,
   "metadata": {},
   "outputs": [],
   "source": [
    "## 資料前處理\n",
    "def preproc_x(x, flatten=True):\n",
    "    x = x / 255.\n",
    "    if flatten:\n",
    "        x = x.reshape((len(x), -1))\n",
    "    return x\n",
    "\n",
    "def preproc_y(y, num_classes=10):\n",
    "    if y.shape[-1] == 1:\n",
    "        y = keras.utils.to_categorical(y, num_classes)\n",
    "    return y    "
   ]
  },
  {
   "cell_type": "code",
   "execution_count": 5,
   "metadata": {},
   "outputs": [],
   "source": [
    "x_train, y_train = train\n",
    "x_test, y_test = test\n",
    "\n",
    "# Preproc the inputs\n",
    "x_train = preproc_x(x_train)\n",
    "x_test = preproc_x(x_test)\n",
    "\n",
    "# Preprc the outputs\n",
    "y_train = preproc_y(y_train)\n",
    "y_test = preproc_y(y_test)"
   ]
  },
  {
   "cell_type": "code",
   "execution_count": 6,
   "metadata": {},
   "outputs": [],
   "source": [
    "from keras.layers import BatchNormalization\n",
    "\n",
    "\"\"\"\n",
    "建立神經網路，並加入 BN layer\n",
    "\"\"\"\n",
    "def build_mlp(input_shape, output_units=10, num_neurons=[512, 256, 128]):\n",
    "    input_layer = keras.layers.Input(input_shape)\n",
    "    \n",
    "    for i, n_units in enumerate(num_neurons):\n",
    "        if i == 0:\n",
    "            x = keras.layers.Dense(units=n_units, \n",
    "                                   activation=\"relu\", \n",
    "                                   name=\"hidden_layer\"+str(i+1))(input_layer)\n",
    "            x = BatchNormalization()(x)\n",
    "        else:\n",
    "            x = keras.layers.Dense(units=n_units, \n",
    "                                   activation=\"relu\", \n",
    "                                   name=\"hidden_layer\"+str(i+1))(x)\n",
    "            x = BatchNormalization()(x)\n",
    "    \n",
    "    out = keras.layers.Dense(units=output_units, activation=\"softmax\", name=\"output\")(x)\n",
    "    \n",
    "    model = keras.models.Model(inputs=[input_layer], outputs=[out])\n",
    "    return model"
   ]
  },
  {
   "cell_type": "code",
   "execution_count": 7,
   "metadata": {},
   "outputs": [],
   "source": [
    "## 超參數設定\n",
    "LEARNING_RATE = 1e-3\n",
    "EPOCHS = 50\n",
    "BATCH_SIZE = 1024\n",
    "MOMENTUM = 0.95"
   ]
  },
  {
   "cell_type": "code",
   "execution_count": 8,
   "metadata": {},
   "outputs": [],
   "source": [
    "\"\"\"\n",
    "# 載入 Callbacks, 並將 monitor 設定為監控 validation loss\n",
    "\"\"\"\n",
    "from keras.callbacks import EarlyStopping\n",
    "\n",
    "earlystop = EarlyStopping(monitor=\"val_acc\", \n",
    "                          patience=10, \n",
    "                          verbose=1\n",
    "                          )"
   ]
  },
  {
   "cell_type": "code",
   "execution_count": 9,
   "metadata": {},
   "outputs": [
    {
     "name": "stderr",
     "output_type": "stream",
     "text": [
      "INFO:plaidml:Opening device \"opencl_amd_gfx902.0\"\n"
     ]
    },
    {
     "name": "stdout",
     "output_type": "stream",
     "text": [
      "_________________________________________________________________\n",
      "Layer (type)                 Output Shape              Param #   \n",
      "=================================================================\n",
      "input_1 (InputLayer)         (None, 3072)              0         \n",
      "_________________________________________________________________\n",
      "hidden_layer1 (Dense)        (None, 512)               1573376   \n",
      "_________________________________________________________________\n",
      "batch_normalization_1 (Batch (None, 512)               2048      \n",
      "_________________________________________________________________\n",
      "hidden_layer2 (Dense)        (None, 256)               131328    \n",
      "_________________________________________________________________\n",
      "batch_normalization_2 (Batch (None, 256)               1024      \n",
      "_________________________________________________________________\n",
      "hidden_layer3 (Dense)        (None, 128)               32896     \n",
      "_________________________________________________________________\n",
      "batch_normalization_3 (Batch (None, 128)               512       \n",
      "_________________________________________________________________\n",
      "output (Dense)               (None, 10)                1290      \n",
      "=================================================================\n",
      "Total params: 1,742,474\n",
      "Trainable params: 1,740,682\n",
      "Non-trainable params: 1,792\n",
      "_________________________________________________________________\n",
      "Train on 50000 samples, validate on 10000 samples\n",
      "Epoch 1/50\n",
      "50000/50000 [==============================] - 15s 309us/step - loss: 2.2078 - acc: 0.2779 - val_loss: 2.1401 - val_acc: 0.2185\n",
      "Epoch 2/50\n",
      "50000/50000 [==============================] - 4s 88us/step - loss: 1.7439 - acc: 0.3936 - val_loss: 1.9549 - val_acc: 0.3160\n",
      "Epoch 3/50\n",
      "50000/50000 [==============================] - 4s 86us/step - loss: 1.6156 - acc: 0.4346 - val_loss: 1.8360 - val_acc: 0.3499\n",
      "Epoch 4/50\n",
      "50000/50000 [==============================] - 4s 89us/step - loss: 1.5422 - acc: 0.4588 - val_loss: 1.7162 - val_acc: 0.4026\n",
      "Epoch 5/50\n",
      "50000/50000 [==============================] - 5s 90us/step - loss: 1.4876 - acc: 0.4802 - val_loss: 1.6489 - val_acc: 0.4252\n",
      "Epoch 6/50\n",
      "50000/50000 [==============================] - 4s 89us/step - loss: 1.4425 - acc: 0.4975 - val_loss: 1.5968 - val_acc: 0.4362\n",
      "Epoch 7/50\n",
      "50000/50000 [==============================] - 5s 93us/step - loss: 1.4039 - acc: 0.5094 - val_loss: 1.5437 - val_acc: 0.4561\n",
      "Epoch 8/50\n",
      "50000/50000 [==============================] - 4s 87us/step - loss: 1.3701 - acc: 0.5219 - val_loss: 1.5324 - val_acc: 0.4564\n",
      "Epoch 9/50\n",
      "50000/50000 [==============================] - 4s 87us/step - loss: 1.3392 - acc: 0.5341 - val_loss: 1.5134 - val_acc: 0.4644\n",
      "Epoch 10/50\n",
      "50000/50000 [==============================] - 4s 88us/step - loss: 1.3085 - acc: 0.5457 - val_loss: 1.5014 - val_acc: 0.4675\n",
      "Epoch 11/50\n",
      "50000/50000 [==============================] - 4s 87us/step - loss: 1.2809 - acc: 0.5561 - val_loss: 1.4934 - val_acc: 0.4741\n",
      "Epoch 12/50\n",
      "50000/50000 [==============================] - 4s 87us/step - loss: 1.2549 - acc: 0.5654 - val_loss: 1.4909 - val_acc: 0.4742\n",
      "Epoch 13/50\n",
      "50000/50000 [==============================] - 4s 88us/step - loss: 1.2295 - acc: 0.5745 - val_loss: 1.4860 - val_acc: 0.4767\n",
      "Epoch 14/50\n",
      "50000/50000 [==============================] - 4s 87us/step - loss: 1.2050 - acc: 0.5829 - val_loss: 1.4750 - val_acc: 0.4849\n",
      "Epoch 15/50\n",
      "50000/50000 [==============================] - 4s 86us/step - loss: 1.1808 - acc: 0.5917 - val_loss: 1.4676 - val_acc: 0.4865\n",
      "Epoch 16/50\n",
      "50000/50000 [==============================] - 4s 88us/step - loss: 1.1575 - acc: 0.6020 - val_loss: 1.4795 - val_acc: 0.4780\n",
      "Epoch 17/50\n",
      "50000/50000 [==============================] - 4s 88us/step - loss: 1.1347 - acc: 0.6082 - val_loss: 1.4666 - val_acc: 0.4850\n",
      "Epoch 18/50\n",
      "50000/50000 [==============================] - 5s 94us/step - loss: 1.1121 - acc: 0.6196 - val_loss: 1.4565 - val_acc: 0.4891\n",
      "Epoch 19/50\n",
      "50000/50000 [==============================] - 4s 90us/step - loss: 1.0892 - acc: 0.6274 - val_loss: 1.4679 - val_acc: 0.4881\n",
      "Epoch 20/50\n",
      "50000/50000 [==============================] - 5s 90us/step - loss: 1.0668 - acc: 0.6351 - val_loss: 1.4706 - val_acc: 0.4859\n",
      "Epoch 21/50\n",
      "50000/50000 [==============================] - 4s 87us/step - loss: 1.0467 - acc: 0.6457 - val_loss: 1.4659 - val_acc: 0.4909\n",
      "Epoch 22/50\n",
      "50000/50000 [==============================] - 4s 88us/step - loss: 1.0240 - acc: 0.6526 - val_loss: 1.4809 - val_acc: 0.4835\n",
      "Epoch 23/50\n",
      "50000/50000 [==============================] - 4s 90us/step - loss: 1.0032 - acc: 0.6618 - val_loss: 1.4699 - val_acc: 0.4901\n",
      "Epoch 24/50\n",
      "50000/50000 [==============================] - 4s 87us/step - loss: 0.9804 - acc: 0.6698 - val_loss: 1.4693 - val_acc: 0.4905\n",
      "Epoch 25/50\n",
      "50000/50000 [==============================] - 4s 86us/step - loss: 0.9594 - acc: 0.6794 - val_loss: 1.4867 - val_acc: 0.4860\n",
      "Epoch 26/50\n",
      "50000/50000 [==============================] - 4s 86us/step - loss: 0.9403 - acc: 0.6868 - val_loss: 1.4869 - val_acc: 0.4892\n",
      "Epoch 27/50\n",
      "50000/50000 [==============================] - 4s 89us/step - loss: 0.9229 - acc: 0.6929 - val_loss: 1.4909 - val_acc: 0.4876\n",
      "Epoch 28/50\n",
      "50000/50000 [==============================] - 4s 88us/step - loss: 0.9007 - acc: 0.7010 - val_loss: 1.4867 - val_acc: 0.4931\n",
      "Epoch 29/50\n",
      "50000/50000 [==============================] - 4s 89us/step - loss: 0.8804 - acc: 0.7097 - val_loss: 1.4997 - val_acc: 0.4920\n",
      "Epoch 30/50\n",
      "50000/50000 [==============================] - 4s 87us/step - loss: 0.8617 - acc: 0.7174 - val_loss: 1.4941 - val_acc: 0.4912\n",
      "Epoch 31/50\n",
      "50000/50000 [==============================] - 4s 88us/step - loss: 0.8419 - acc: 0.7257 - val_loss: 1.5113 - val_acc: 0.4868\n",
      "Epoch 32/50\n",
      "50000/50000 [==============================] - 4s 90us/step - loss: 0.8220 - acc: 0.7314 - val_loss: 1.5295 - val_acc: 0.4877\n",
      "Epoch 33/50\n",
      "50000/50000 [==============================] - 4s 89us/step - loss: 0.8041 - acc: 0.7393 - val_loss: 1.5074 - val_acc: 0.4945\n",
      "Epoch 34/50\n",
      "50000/50000 [==============================] - 4s 86us/step - loss: 0.7841 - acc: 0.7472 - val_loss: 1.5205 - val_acc: 0.4934\n",
      "Epoch 35/50\n",
      "50000/50000 [==============================] - 5s 92us/step - loss: 0.7655 - acc: 0.7558 - val_loss: 1.5357 - val_acc: 0.4910\n",
      "Epoch 36/50\n",
      "50000/50000 [==============================] - 4s 87us/step - loss: 0.7457 - acc: 0.7634 - val_loss: 1.5290 - val_acc: 0.4903\n",
      "Epoch 37/50\n",
      "50000/50000 [==============================] - 5s 93us/step - loss: 0.7273 - acc: 0.7691 - val_loss: 1.5406 - val_acc: 0.4939\n",
      "Epoch 38/50\n",
      "50000/50000 [==============================] - 4s 87us/step - loss: 0.7120 - acc: 0.7754 - val_loss: 1.5619 - val_acc: 0.4832\n",
      "Epoch 39/50\n",
      "50000/50000 [==============================] - 4s 87us/step - loss: 0.6926 - acc: 0.7829 - val_loss: 1.5745 - val_acc: 0.4895\n",
      "Epoch 40/50\n",
      "50000/50000 [==============================] - 4s 87us/step - loss: 0.6721 - acc: 0.7908 - val_loss: 1.5850 - val_acc: 0.4877\n",
      "Epoch 41/50\n",
      "50000/50000 [==============================] - 4s 88us/step - loss: 0.6536 - acc: 0.7996 - val_loss: 1.5914 - val_acc: 0.4929\n",
      "Epoch 42/50\n",
      "50000/50000 [==============================] - 5s 90us/step - loss: 0.6369 - acc: 0.8062 - val_loss: 1.5922 - val_acc: 0.4872\n",
      "Epoch 43/50\n",
      "50000/50000 [==============================] - 4s 88us/step - loss: 0.6191 - acc: 0.8131 - val_loss: 1.5992 - val_acc: 0.4880\n",
      "Epoch 00043: early stopping\n"
     ]
    }
   ],
   "source": [
    "model = build_mlp(input_shape=x_train.shape[1:])\n",
    "model.summary()\n",
    "optimizer = keras.optimizers.SGD(lr=LEARNING_RATE, nesterov=True, momentum=MOMENTUM)\n",
    "model.compile(loss=\"categorical_crossentropy\", metrics=[\"accuracy\"], optimizer=optimizer)\n",
    "\n",
    "model.fit(x_train, y_train, \n",
    "          epochs=EPOCHS, \n",
    "          batch_size=BATCH_SIZE, \n",
    "          validation_data=(x_test, y_test), \n",
    "          shuffle=True,\n",
    "          callbacks=[earlystop]\n",
    "         )\n",
    "\n",
    "# Collect results\n",
    "train_loss = model.history.history[\"loss\"]\n",
    "valid_loss = model.history.history[\"val_loss\"]\n",
    "train_acc = model.history.history[\"acc\"]\n",
    "valid_acc = model.history.history[\"val_acc\"]"
   ]
  },
  {
   "cell_type": "code",
   "execution_count": 10,
   "metadata": {},
   "outputs": [
    {
     "data": {
      "image/png": "[encoded data removed]",
      "text/plain": [
       "<Figure size 432x288 with 1 Axes>"
      ]
     },
     "metadata": {
      "needs_background": "light"
     },
     "output_type": "display_data"
    },
    {
     "data": {
      "image/png": "[encoded data removed]",
      "text/plain": [
       "<Figure size 432x288 with 1 Axes>"
      ]
     },
     "metadata": {
      "needs_background": "light"
     },
     "output_type": "display_data"
    }
   ],
   "source": [
    "import matplotlib.pyplot as plt\n",
    "%matplotlib inline\n",
    "\n",
    "plt.plot(range(len(train_loss)), train_loss, label=\"train loss\")\n",
    "plt.plot(range(len(valid_loss)), valid_loss, label=\"valid loss\")\n",
    "plt.legend()\n",
    "plt.title(\"Loss\")\n",
    "plt.show()\n",
    "\n",
    "plt.plot(range(len(train_acc)), train_acc, label=\"train accuracy\")\n",
    "plt.plot(range(len(valid_acc)), valid_acc, label=\"valid accuracy\")\n",
    "plt.legend()\n",
    "plt.title(\"Accuracy\")\n",
    "plt.show()"
   ]
  }
 ],
 "metadata": {
  "kernelspec": {
   "display_name": "Python 3",
   "language": "python",
   "name": "python3"
  },
  "language_info": {
   "codemirror_mode": {
    "name": "ipython",
    "version": 3
   },
   "file_extension": ".py",
   "mimetype": "text/x-python",
   "name": "python",
   "nbconvert_exporter": "python",
   "pygments_lexer": "ipython3",
   "version": "3.7.3"
  }
 },
 "nbformat": 4,
 "nbformat_minor": 2
}
