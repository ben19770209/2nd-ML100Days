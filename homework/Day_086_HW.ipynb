{
 "cells": [
  {
   "cell_type": "code",
   "execution_count": 1,
   "metadata": {},
   "outputs": [],
   "source": [
    "# https://github.com/plaidml/plaidml\n",
    "# https://informatics.sydney.edu.au/blogs/amdgpu/\n",
    "\n",
    "# Install the plaidml backend\n",
    "import plaidml.keras\n",
    "plaidml.keras.install_backend()"
   ]
  },
  {
   "cell_type": "markdown",
   "metadata": {},
   "source": [
    "## Work\n",
    "1. 試比較 save_best_only 與否的差異\n",
    "2. 請僅存入將 save_weights_only 設定為 True, 並嘗試 reset ipynb 並將模型與權重重新建回並預測 x_test"
   ]
  },
  {
   "cell_type": "code",
   "execution_count": 2,
   "metadata": {},
   "outputs": [],
   "source": [
    "import os\n",
    "import keras\n",
    "\n",
    "# Disable GPU\n",
    "os.environ[\"CUDA_VISIBLE_DEVICES\"] = \"\""
   ]
  },
  {
   "cell_type": "code",
   "execution_count": 3,
   "metadata": {},
   "outputs": [],
   "source": [
    "train, test = keras.datasets.cifar10.load_data()"
   ]
  },
  {
   "cell_type": "code",
   "execution_count": 4,
   "metadata": {},
   "outputs": [],
   "source": [
    "## 資料前處理\n",
    "def preproc_x(x, flatten=True):\n",
    "    x = x / 255.\n",
    "    if flatten:\n",
    "        x = x.reshape((len(x), -1))\n",
    "    return x\n",
    "\n",
    "def preproc_y(y, num_classes=10):\n",
    "    if y.shape[-1] == 1:\n",
    "        y = keras.utils.to_categorical(y, num_classes)\n",
    "    return y    "
   ]
  },
  {
   "cell_type": "code",
   "execution_count": 5,
   "metadata": {},
   "outputs": [],
   "source": [
    "x_train, y_train = train\n",
    "x_test, y_test = test\n",
    "\n",
    "# Preproc the inputs\n",
    "x_train = preproc_x(x_train)\n",
    "x_test = preproc_x(x_test)\n",
    "\n",
    "# Preprc the outputs\n",
    "y_train = preproc_y(y_train)\n",
    "y_test = preproc_y(y_test)"
   ]
  },
  {
   "cell_type": "code",
   "execution_count": 6,
   "metadata": {},
   "outputs": [],
   "source": [
    "from keras.layers import BatchNormalization\n",
    "\n",
    "\"\"\"\n",
    "建立神經網路，並加入 BN layer\n",
    "\"\"\"\n",
    "def build_mlp(input_shape, output_units=10, num_neurons=[512, 256, 128]):\n",
    "    input_layer = keras.layers.Input(input_shape)\n",
    "    \n",
    "    for i, n_units in enumerate(num_neurons):\n",
    "        if i == 0:\n",
    "            x = keras.layers.Dense(units=n_units, \n",
    "                                   activation=\"relu\", \n",
    "                                   name=\"hidden_layer\"+str(i+1))(input_layer)\n",
    "            x = BatchNormalization()(x)\n",
    "        else:\n",
    "            x = keras.layers.Dense(units=n_units, \n",
    "                                   activation=\"relu\", \n",
    "                                   name=\"hidden_layer\"+str(i+1))(x)\n",
    "            x = BatchNormalization()(x)\n",
    "    \n",
    "    out = keras.layers.Dense(units=output_units, activation=\"softmax\", name=\"output\")(x)\n",
    "    \n",
    "    model = keras.models.Model(inputs=[input_layer], outputs=[out])\n",
    "    return model"
   ]
  },
  {
   "cell_type": "code",
   "execution_count": 7,
   "metadata": {},
   "outputs": [],
   "source": [
    "## 超參數設定\n",
    "LEARNING_RATE = 1e-3\n",
    "EPOCHS = 50\n",
    "BATCH_SIZE = 1024\n",
    "MOMENTUM = 0.95"
   ]
  },
  {
   "cell_type": "code",
   "execution_count": 8,
   "metadata": {},
   "outputs": [],
   "source": [
    "\"\"\"\n",
    "# 載入 Callbacks, 並將監控目標設為 validation loss, 且只存最佳參數時的模型\n",
    "\"\"\"\n",
    "from keras.callbacks import ModelCheckpoint\n",
    "\n",
    "model_ckpt = ModelCheckpoint(filepath=\"./Day_086_tmp.h5\", \n",
    "                             monitor=\"val_loss\", \n",
    "                             save_best_only=True,\n",
    "                             save_weights_only=False)"
   ]
  },
  {
   "cell_type": "code",
   "execution_count": 9,
   "metadata": {
    "scrolled": true
   },
   "outputs": [
    {
     "name": "stderr",
     "output_type": "stream",
     "text": [
      "INFO:plaidml:Opening device \"opencl_amd_gfx902.0\"\n"
     ]
    },
    {
     "name": "stdout",
     "output_type": "stream",
     "text": [
      "_________________________________________________________________\n",
      "Layer (type)                 Output Shape              Param #   \n",
      "=================================================================\n",
      "input_1 (InputLayer)         (None, 3072)              0         \n",
      "_________________________________________________________________\n",
      "hidden_layer1 (Dense)        (None, 512)               1573376   \n",
      "_________________________________________________________________\n",
      "batch_normalization_1 (Batch (None, 512)               2048      \n",
      "_________________________________________________________________\n",
      "hidden_layer2 (Dense)        (None, 256)               131328    \n",
      "_________________________________________________________________\n",
      "batch_normalization_2 (Batch (None, 256)               1024      \n",
      "_________________________________________________________________\n",
      "hidden_layer3 (Dense)        (None, 128)               32896     \n",
      "_________________________________________________________________\n",
      "batch_normalization_3 (Batch (None, 128)               512       \n",
      "_________________________________________________________________\n",
      "output (Dense)               (None, 10)                1290      \n",
      "=================================================================\n",
      "Total params: 1,742,474\n",
      "Trainable params: 1,740,682\n",
      "Non-trainable params: 1,792\n",
      "_________________________________________________________________\n",
      "Train on 50000 samples, validate on 10000 samples\n",
      "Epoch 1/50\n",
      "50000/50000 [==============================] - 19s 379us/step - loss: 2.2405 - acc: 0.2631 - val_loss: 2.1124 - val_acc: 0.2313\n",
      "Epoch 2/50\n",
      "50000/50000 [==============================] - 5s 102us/step - loss: 1.7402 - acc: 0.3956 - val_loss: 1.9387 - val_acc: 0.3223\n",
      "Epoch 3/50\n",
      "50000/50000 [==============================] - 4s 89us/step - loss: 1.6175 - acc: 0.4339 - val_loss: 1.7921 - val_acc: 0.3869\n",
      "Epoch 4/50\n",
      "50000/50000 [==============================] - 4s 87us/step - loss: 1.5440 - acc: 0.4605 - val_loss: 1.6985 - val_acc: 0.4197\n",
      "Epoch 5/50\n",
      "50000/50000 [==============================] - 4s 86us/step - loss: 1.4896 - acc: 0.4786 - val_loss: 1.6292 - val_acc: 0.4249\n",
      "Epoch 6/50\n",
      "50000/50000 [==============================] - 4s 87us/step - loss: 1.4469 - acc: 0.4926 - val_loss: 1.5738 - val_acc: 0.4419\n",
      "Epoch 7/50\n",
      "50000/50000 [==============================] - 4s 87us/step - loss: 1.4070 - acc: 0.5073 - val_loss: 1.5345 - val_acc: 0.4525\n",
      "Epoch 8/50\n",
      "50000/50000 [==============================] - 4s 87us/step - loss: 1.3720 - acc: 0.5188 - val_loss: 1.5078 - val_acc: 0.4636\n",
      "Epoch 9/50\n",
      "50000/50000 [==============================] - 5s 92us/step - loss: 1.3407 - acc: 0.5320 - val_loss: 1.4945 - val_acc: 0.4646\n",
      "Epoch 10/50\n",
      "50000/50000 [==============================] - 4s 85us/step - loss: 1.3121 - acc: 0.5420 - val_loss: 1.4918 - val_acc: 0.4720\n",
      "Epoch 11/50\n",
      "50000/50000 [==============================] - 4s 87us/step - loss: 1.2852 - acc: 0.5530 - val_loss: 1.4695 - val_acc: 0.4783\n",
      "Epoch 12/50\n",
      "50000/50000 [==============================] - 4s 89us/step - loss: 1.2603 - acc: 0.5637 - val_loss: 1.4602 - val_acc: 0.4806\n",
      "Epoch 13/50\n",
      "50000/50000 [==============================] - 4s 90us/step - loss: 1.2340 - acc: 0.5724 - val_loss: 1.4698 - val_acc: 0.4832\n",
      "Epoch 14/50\n",
      "50000/50000 [==============================] - 4s 87us/step - loss: 1.2108 - acc: 0.5809 - val_loss: 1.4603 - val_acc: 0.4836\n",
      "Epoch 15/50\n",
      "50000/50000 [==============================] - 4s 87us/step - loss: 1.1867 - acc: 0.5897 - val_loss: 1.4558 - val_acc: 0.4858\n",
      "Epoch 16/50\n",
      "50000/50000 [==============================] - 4s 89us/step - loss: 1.1628 - acc: 0.5986 - val_loss: 1.4555 - val_acc: 0.4903\n",
      "Epoch 17/50\n",
      "50000/50000 [==============================] - 5s 90us/step - loss: 1.1408 - acc: 0.6085 - val_loss: 1.4540 - val_acc: 0.4918\n",
      "Epoch 18/50\n",
      "50000/50000 [==============================] - 4s 87us/step - loss: 1.1183 - acc: 0.6160 - val_loss: 1.4515 - val_acc: 0.4960\n",
      "Epoch 19/50\n",
      "50000/50000 [==============================] - 4s 88us/step - loss: 1.0965 - acc: 0.6245 - val_loss: 1.4499 - val_acc: 0.4962\n",
      "Epoch 20/50\n",
      "50000/50000 [==============================] - 4s 85us/step - loss: 1.0746 - acc: 0.6329 - val_loss: 1.4493 - val_acc: 0.4922\n",
      "Epoch 21/50\n",
      "50000/50000 [==============================] - 4s 88us/step - loss: 1.0534 - acc: 0.6406 - val_loss: 1.4457 - val_acc: 0.4983\n",
      "Epoch 22/50\n",
      "50000/50000 [==============================] - 4s 87us/step - loss: 1.0320 - acc: 0.6485 - val_loss: 1.4479 - val_acc: 0.4981\n",
      "Epoch 23/50\n",
      "50000/50000 [==============================] - 4s 86us/step - loss: 1.0125 - acc: 0.6567 - val_loss: 1.4406 - val_acc: 0.5012\n",
      "Epoch 24/50\n",
      "50000/50000 [==============================] - 5s 93us/step - loss: 0.9919 - acc: 0.6643 - val_loss: 1.4570 - val_acc: 0.4997\n",
      "Epoch 25/50\n",
      "50000/50000 [==============================] - 4s 89us/step - loss: 0.9714 - acc: 0.6714 - val_loss: 1.4657 - val_acc: 0.4996\n",
      "Epoch 26/50\n",
      "50000/50000 [==============================] - 4s 89us/step - loss: 0.9511 - acc: 0.6823 - val_loss: 1.4542 - val_acc: 0.4979\n",
      "Epoch 27/50\n",
      "50000/50000 [==============================] - 4s 85us/step - loss: 0.9335 - acc: 0.6890 - val_loss: 1.4603 - val_acc: 0.4955\n",
      "Epoch 28/50\n",
      "50000/50000 [==============================] - 4s 87us/step - loss: 0.9110 - acc: 0.6978 - val_loss: 1.4537 - val_acc: 0.5000\n",
      "Epoch 29/50\n",
      "50000/50000 [==============================] - 4s 88us/step - loss: 0.8925 - acc: 0.7043 - val_loss: 1.4688 - val_acc: 0.4989\n",
      "Epoch 30/50\n",
      "50000/50000 [==============================] - 4s 90us/step - loss: 0.8722 - acc: 0.7125 - val_loss: 1.4585 - val_acc: 0.5042\n",
      "Epoch 31/50\n",
      "50000/50000 [==============================] - 4s 90us/step - loss: 0.8525 - acc: 0.7198 - val_loss: 1.4554 - val_acc: 0.5059\n",
      "Epoch 32/50\n",
      "50000/50000 [==============================] - 5s 91us/step - loss: 0.8341 - acc: 0.7275 - val_loss: 1.4637 - val_acc: 0.5055\n",
      "Epoch 33/50\n",
      "50000/50000 [==============================] - 4s 87us/step - loss: 0.8150 - acc: 0.7341 - val_loss: 1.4729 - val_acc: 0.4984\n",
      "Epoch 34/50\n",
      "50000/50000 [==============================] - 4s 87us/step - loss: 0.7950 - acc: 0.7431 - val_loss: 1.4741 - val_acc: 0.5030\n",
      "Epoch 35/50\n",
      "50000/50000 [==============================] - 4s 86us/step - loss: 0.7780 - acc: 0.7494 - val_loss: 1.5016 - val_acc: 0.4980\n",
      "Epoch 36/50\n",
      "50000/50000 [==============================] - 4s 86us/step - loss: 0.7596 - acc: 0.7558 - val_loss: 1.4991 - val_acc: 0.5007\n",
      "Epoch 37/50\n",
      "50000/50000 [==============================] - 4s 86us/step - loss: 0.7388 - acc: 0.7650 - val_loss: 1.5178 - val_acc: 0.5003\n",
      "Epoch 38/50\n",
      "50000/50000 [==============================] - 4s 86us/step - loss: 0.7201 - acc: 0.7735 - val_loss: 1.5116 - val_acc: 0.5017\n",
      "Epoch 39/50\n",
      "50000/50000 [==============================] - 4s 87us/step - loss: 0.7038 - acc: 0.7789 - val_loss: 1.5254 - val_acc: 0.4987\n",
      "Epoch 40/50\n",
      "50000/50000 [==============================] - 4s 84us/step - loss: 0.6839 - acc: 0.7892 - val_loss: 1.5276 - val_acc: 0.4972\n",
      "Epoch 41/50\n",
      "50000/50000 [==============================] - 4s 85us/step - loss: 0.6669 - acc: 0.7941 - val_loss: 1.5434 - val_acc: 0.4991\n",
      "Epoch 42/50\n",
      "50000/50000 [==============================] - 5s 99us/step - loss: 0.6494 - acc: 0.8017 - val_loss: 1.5617 - val_acc: 0.4925\n",
      "Epoch 43/50\n",
      "50000/50000 [==============================] - 6s 128us/step - loss: 0.6310 - acc: 0.8084 - val_loss: 1.5730 - val_acc: 0.4952\n",
      "Epoch 44/50\n",
      "50000/50000 [==============================] - 5s 91us/step - loss: 0.6130 - acc: 0.8149 - val_loss: 1.5741 - val_acc: 0.4953\n",
      "Epoch 45/50\n",
      "50000/50000 [==============================] - 5s 90us/step - loss: 0.5968 - acc: 0.8229 - val_loss: 1.5692 - val_acc: 0.4933\n",
      "Epoch 46/50\n",
      "50000/50000 [==============================] - 5s 94us/step - loss: 0.5792 - acc: 0.8294 - val_loss: 1.5831 - val_acc: 0.4956\n",
      "Epoch 47/50\n",
      "50000/50000 [==============================] - 5s 90us/step - loss: 0.5632 - acc: 0.8359 - val_loss: 1.5970 - val_acc: 0.4953\n",
      "Epoch 48/50\n",
      "50000/50000 [==============================] - 4s 89us/step - loss: 0.5454 - acc: 0.8416 - val_loss: 1.6253 - val_acc: 0.4882\n",
      "Epoch 49/50\n",
      "50000/50000 [==============================] - 4s 89us/step - loss: 0.5321 - acc: 0.8474 - val_loss: 1.6229 - val_acc: 0.4918\n"
     ]
    },
    {
     "name": "stdout",
     "output_type": "stream",
     "text": [
      "Epoch 50/50\n",
      "50000/50000 [==============================] - 5s 92us/step - loss: 0.5123 - acc: 0.8555 - val_loss: 1.6605 - val_acc: 0.4900\n",
      "10000/10000 [==============================] - 5s 518us/step\n"
     ]
    }
   ],
   "source": [
    "model = build_mlp(input_shape=x_train.shape[1:])\n",
    "model.summary()\n",
    "optimizer = keras.optimizers.SGD(lr=LEARNING_RATE, nesterov=True, momentum=MOMENTUM)\n",
    "model.compile(loss=\"categorical_crossentropy\", metrics=[\"accuracy\"], optimizer=optimizer)\n",
    "\n",
    "model.fit(x_train, y_train, \n",
    "          epochs=EPOCHS, \n",
    "          batch_size=BATCH_SIZE, \n",
    "          validation_data=(x_test, y_test), \n",
    "          shuffle=True,\n",
    "          callbacks=[model_ckpt]\n",
    "         )\n",
    "\n",
    "# Collect results\n",
    "train_loss = model.history.history[\"loss\"]\n",
    "valid_loss = model.history.history[\"val_loss\"]\n",
    "train_acc = model.history.history[\"acc\"]\n",
    "valid_acc = model.history.history[\"val_acc\"]\n",
    "\n",
    "# Load back\n",
    "model = keras.models.load_model(\"./Day_086_tmp.h5\")\n",
    "loss_loadback, acc_loadback = model.evaluate(x_test, y_test)"
   ]
  },
  {
   "cell_type": "code",
   "execution_count": 10,
   "metadata": {},
   "outputs": [
    {
     "data": {
      "image/png": "[encoded data removed]",
      "text/plain": [
       "<Figure size 432x288 with 1 Axes>"
      ]
     },
     "metadata": {
      "needs_background": "light"
     },
     "output_type": "display_data"
    },
    {
     "data": {
      "image/png": "[encoded data removed]",
      "text/plain": [
       "<Figure size 432x288 with 1 Axes>"
      ]
     },
     "metadata": {
      "needs_background": "light"
     },
     "output_type": "display_data"
    }
   ],
   "source": [
    "import matplotlib.pyplot as plt\n",
    "%matplotlib inline\n",
    "\n",
    "plt.plot(range(len(train_loss)), train_loss, label=\"train loss\")\n",
    "plt.plot(range(len(valid_loss)), valid_loss, label=\"valid loss\")\n",
    "plt.hlines(y=loss_loadback, xmin=0, xmax=len(train_loss), colors='r', linestyles='--')\n",
    "plt.legend()\n",
    "plt.title(\"Loss\")\n",
    "plt.show()\n",
    "\n",
    "plt.plot(range(len(train_acc)), train_acc, label=\"train accuracy\")\n",
    "plt.plot(range(len(valid_acc)), valid_acc, label=\"valid accuracy\")\n",
    "plt.hlines(y=acc_loadback, xmin=0, xmax=len(train_loss), colors='r', linestyles='--')\n",
    "plt.legend()\n",
    "plt.title(\"Accuracy\")\n",
    "plt.show()"
   ]
  },
  {
   "cell_type": "code",
   "execution_count": null,
   "metadata": {},
   "outputs": [],
   "source": []
  }
 ],
 "metadata": {
  "kernelspec": {
   "display_name": "Python 3",
   "language": "python",
   "name": "python3"
  },
  "language_info": {
   "codemirror_mode": {
    "name": "ipython",
    "version": 3
   },
   "file_extension": ".py",
   "mimetype": "text/x-python",
   "name": "python",
   "nbconvert_exporter": "python",
   "pygments_lexer": "ipython3",
   "version": "3.7.3"
  }
 },
 "nbformat": 4,
 "nbformat_minor": 2
}
