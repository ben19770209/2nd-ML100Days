{
 "cells": [
  {
   "cell_type": "code",
   "execution_count": 1,
   "metadata": {},
   "outputs": [],
   "source": [
    "# https://github.com/plaidml/plaidml\n",
    "# https://informatics.sydney.edu.au/blogs/amdgpu/\n",
    "\n",
    "# Install the plaidml backend\n",
    "import plaidml.keras\n",
    "plaidml.keras.install_backend()"
   ]
  },
  {
   "cell_type": "markdown",
   "metadata": {},
   "source": [
    "## Work\n",
    "1. 請嘗試寫一個 callback 用來記錄各類別在訓練過程中，對驗證集的 True Positive 與 True Negative"
   ]
  },
  {
   "cell_type": "code",
   "execution_count": 2,
   "metadata": {},
   "outputs": [],
   "source": [
    "import os\n",
    "import keras\n",
    "\n",
    "# Disable GPU\n",
    "os.environ[\"CUDA_VISIBLE_DEVICES\"] = \"\""
   ]
  },
  {
   "cell_type": "code",
   "execution_count": 3,
   "metadata": {},
   "outputs": [],
   "source": [
    "train, test = keras.datasets.cifar10.load_data()"
   ]
  },
  {
   "cell_type": "code",
   "execution_count": 4,
   "metadata": {},
   "outputs": [],
   "source": [
    "## 資料前處理\n",
    "def preproc_x(x, flatten=True):\n",
    "    x = x / 255.\n",
    "    if flatten:\n",
    "        x = x.reshape((len(x), -1))\n",
    "    return x\n",
    "\n",
    "def preproc_y(y, num_classes=10):\n",
    "    if y.shape[-1] == 1:\n",
    "        y = keras.utils.to_categorical(y, num_classes)\n",
    "    return y    "
   ]
  },
  {
   "cell_type": "code",
   "execution_count": 5,
   "metadata": {},
   "outputs": [],
   "source": [
    "x_train, y_train = train\n",
    "x_test, y_test = test\n",
    "\n",
    "# Preproc the inputs\n",
    "x_train = preproc_x(x_train)\n",
    "x_test = preproc_x(x_test)\n",
    "\n",
    "# Preprc the outputs\n",
    "y_train = preproc_y(y_train)\n",
    "y_test = preproc_y(y_test)"
   ]
  },
  {
   "cell_type": "code",
   "execution_count": 6,
   "metadata": {},
   "outputs": [],
   "source": [
    "from keras.layers import BatchNormalization\n",
    "\n",
    "\"\"\"\n",
    "建立神經網路，並加入 BN layer\n",
    "\"\"\"\n",
    "def build_mlp(input_shape, output_units=10, num_neurons=[512, 256, 128]):\n",
    "    input_layer = keras.layers.Input(input_shape)\n",
    "    \n",
    "    for i, n_units in enumerate(num_neurons):\n",
    "        if i == 0:\n",
    "            x = keras.layers.Dense(units=n_units, \n",
    "                                   activation=\"relu\", \n",
    "                                   name=\"hidden_layer\"+str(i+1))(input_layer)\n",
    "            x = BatchNormalization()(x)\n",
    "        else:\n",
    "            x = keras.layers.Dense(units=n_units, \n",
    "                                   activation=\"relu\", \n",
    "                                   name=\"hidden_layer\"+str(i+1))(x)\n",
    "            x = BatchNormalization()(x)\n",
    "    \n",
    "    out = keras.layers.Dense(units=output_units, activation=\"softmax\", name=\"output\")(x)\n",
    "    \n",
    "    model = keras.models.Model(inputs=[input_layer], outputs=[out])\n",
    "    return model"
   ]
  },
  {
   "cell_type": "code",
   "execution_count": 7,
   "metadata": {},
   "outputs": [],
   "source": [
    "## 超參數設定\n",
    "LEARNING_RATE = 1e-3\n",
    "EPOCHS = 25\n",
    "BATCH_SIZE = 1024\n",
    "MOMENTUM = 0.95"
   ]
  },
  {
   "cell_type": "code",
   "execution_count": 10,
   "metadata": {},
   "outputs": [],
   "source": [
    "# 載入 Callbacks\n",
    "from keras.callbacks import Callback\n",
    "import numpy as np\n",
    "\n",
    "# Record_fp_tp\n",
    "class Record_tp_tn(Callback):\n",
    "    \"\"\"Code Here\n",
    "    撰寫一個紀錄 true positive 與 true negative 數量的 callbacks    \n",
    "    \"\"\"\n",
    "    def on_train_begin(self, epoch, logs = {}):\n",
    "        logs = logs or {}\n",
    "        record_items = [\"val_auc\", \"true_positives\", \"true_negatives\", \"val_fp\", \"val_fn\", \"val_tp\", \"val_tn\"]\n",
    "        for i in record_items:\n",
    "            if i not in self.params['metrics']:\n",
    "                self.params['metrics'].append(i)\n",
    "    def on_epoch_end(self, epoch, logs = {}, thres=0.5):\n",
    "        logs = logs or {}\n",
    "        y_true = self.validation_data[1].argmax(axis = 1)\n",
    "        y_pred = self.model.predict(self.validation_data[0])\n",
    "        y_pred = (y_pred[:, 1] >= thres) * 1\n",
    "        true_positives = np.sum(np.logical_and(y_pred == 1, y_true == 1))\n",
    "        true_negatives = np.sum(np.logical_and(y_pred == 0, y_true == 0))\n",
    "        logs[\"true_positives\"] = true_positives\n",
    "        logs[\"true_negatives\"] = true_negatives\n",
    "        \n",
    "rec_tptn = Record_tp_tn()"
   ]
  },
  {
   "cell_type": "code",
   "execution_count": 11,
   "metadata": {
    "scrolled": true
   },
   "outputs": [
    {
     "name": "stdout",
     "output_type": "stream",
     "text": [
      "_________________________________________________________________\n",
      "Layer (type)                 Output Shape              Param #   \n",
      "=================================================================\n",
      "input_2 (InputLayer)         (None, 3072)              0         \n",
      "_________________________________________________________________\n",
      "hidden_layer1 (Dense)        (None, 512)               1573376   \n",
      "_________________________________________________________________\n",
      "batch_normalization_4 (Batch (None, 512)               2048      \n",
      "_________________________________________________________________\n",
      "hidden_layer2 (Dense)        (None, 256)               131328    \n",
      "_________________________________________________________________\n",
      "batch_normalization_5 (Batch (None, 256)               1024      \n",
      "_________________________________________________________________\n",
      "hidden_layer3 (Dense)        (None, 128)               32896     \n",
      "_________________________________________________________________\n",
      "batch_normalization_6 (Batch (None, 128)               512       \n",
      "_________________________________________________________________\n",
      "output (Dense)               (None, 10)                1290      \n",
      "=================================================================\n",
      "Total params: 1,742,474\n",
      "Trainable params: 1,740,682\n",
      "Non-trainable params: 1,792\n",
      "_________________________________________________________________\n",
      "Train on 50000 samples, validate on 10000 samples\n",
      "Epoch 1/25\n",
      "50000/50000 [==============================] - 4s 88us/step - loss: 2.2173 - acc: 0.2734 - val_loss: 2.1373 - val_acc: 0.2205\n",
      "Epoch 2/25\n",
      "50000/50000 [==============================] - 4s 88us/step - loss: 1.7422 - acc: 0.3909 - val_loss: 1.9789 - val_acc: 0.2991\n",
      "Epoch 3/25\n",
      "50000/50000 [==============================] - 4s 88us/step - loss: 1.6178 - acc: 0.4328 - val_loss: 1.8334 - val_acc: 0.3602\n",
      "Epoch 4/25\n",
      "50000/50000 [==============================] - 4s 87us/step - loss: 1.5449 - acc: 0.4585 - val_loss: 1.7219 - val_acc: 0.4002\n",
      "Epoch 5/25\n",
      "50000/50000 [==============================] - 4s 86us/step - loss: 1.4885 - acc: 0.4791 - val_loss: 1.6466 - val_acc: 0.4212\n",
      "Epoch 6/25\n",
      "50000/50000 [==============================] - 4s 87us/step - loss: 1.4435 - acc: 0.4963 - val_loss: 1.5866 - val_acc: 0.4387\n",
      "Epoch 7/25\n",
      "50000/50000 [==============================] - 4s 89us/step - loss: 1.4042 - acc: 0.5123 - val_loss: 1.5706 - val_acc: 0.4447\n",
      "Epoch 8/25\n",
      "50000/50000 [==============================] - 4s 88us/step - loss: 1.3688 - acc: 0.5239 - val_loss: 1.5310 - val_acc: 0.4567\n",
      "Epoch 9/25\n",
      "50000/50000 [==============================] - 4s 86us/step - loss: 1.3356 - acc: 0.5365 - val_loss: 1.5062 - val_acc: 0.4735\n",
      "Epoch 10/25\n",
      "50000/50000 [==============================] - 5s 90us/step - loss: 1.3039 - acc: 0.5479 - val_loss: 1.5013 - val_acc: 0.4731\n",
      "Epoch 11/25\n",
      "50000/50000 [==============================] - 4s 88us/step - loss: 1.2782 - acc: 0.5582 - val_loss: 1.4857 - val_acc: 0.4784\n",
      "Epoch 12/25\n",
      "50000/50000 [==============================] - 4s 90us/step - loss: 1.2486 - acc: 0.5676 - val_loss: 1.4702 - val_acc: 0.4805\n",
      "Epoch 13/25\n",
      "50000/50000 [==============================] - 4s 90us/step - loss: 1.2225 - acc: 0.5772 - val_loss: 1.4624 - val_acc: 0.4828\n",
      "Epoch 14/25\n",
      "50000/50000 [==============================] - 4s 87us/step - loss: 1.1985 - acc: 0.5860 - val_loss: 1.4632 - val_acc: 0.4857\n",
      "Epoch 15/25\n",
      "50000/50000 [==============================] - 4s 89us/step - loss: 1.1731 - acc: 0.5949 - val_loss: 1.4583 - val_acc: 0.4852\n",
      "Epoch 16/25\n",
      "50000/50000 [==============================] - 5s 102us/step - loss: 1.1511 - acc: 0.6026 - val_loss: 1.4538 - val_acc: 0.4858\n",
      "Epoch 17/25\n",
      "50000/50000 [==============================] - 5s 96us/step - loss: 1.1264 - acc: 0.6132 - val_loss: 1.4580 - val_acc: 0.4889\n",
      "Epoch 18/25\n",
      "50000/50000 [==============================] - 4s 87us/step - loss: 1.1051 - acc: 0.6216 - val_loss: 1.4595 - val_acc: 0.4901\n",
      "Epoch 19/25\n",
      "50000/50000 [==============================] - 4s 89us/step - loss: 1.0804 - acc: 0.6319 - val_loss: 1.4504 - val_acc: 0.4899\n",
      "Epoch 20/25\n",
      "50000/50000 [==============================] - 4s 85us/step - loss: 1.0591 - acc: 0.6388 - val_loss: 1.4429 - val_acc: 0.4923\n",
      "Epoch 21/25\n",
      "50000/50000 [==============================] - 4s 85us/step - loss: 1.0380 - acc: 0.6464 - val_loss: 1.4507 - val_acc: 0.4914\n",
      "Epoch 22/25\n",
      "50000/50000 [==============================] - 4s 90us/step - loss: 1.0162 - acc: 0.6538 - val_loss: 1.4615 - val_acc: 0.4934\n",
      "Epoch 23/25\n",
      "50000/50000 [==============================] - 5s 91us/step - loss: 0.9954 - acc: 0.6636 - val_loss: 1.4580 - val_acc: 0.4881\n",
      "Epoch 24/25\n",
      "50000/50000 [==============================] - 4s 87us/step - loss: 0.9748 - acc: 0.6710 - val_loss: 1.4582 - val_acc: 0.4886\n",
      "Epoch 25/25\n",
      "50000/50000 [==============================] - 4s 88us/step - loss: 0.9537 - acc: 0.6792 - val_loss: 1.4484 - val_acc: 0.4935\n"
     ]
    }
   ],
   "source": [
    "model = build_mlp(input_shape=x_train.shape[1:])\n",
    "model.summary()\n",
    "optimizer = keras.optimizers.SGD(lr=LEARNING_RATE, nesterov=True, momentum=MOMENTUM)\n",
    "model.compile(loss=\"categorical_crossentropy\", metrics=[\"accuracy\"], optimizer=optimizer)\n",
    "\n",
    "\"\"\"Code Here\n",
    "將 callbacks 放入模型訓練流程中\n",
    "\"\"\"\n",
    "model.fit(x_train, y_train, \n",
    "          epochs=EPOCHS, \n",
    "          batch_size=BATCH_SIZE, \n",
    "          validation_data=(x_test, y_test), \n",
    "          shuffle=True,\n",
    "          callbacks=[rec_tptn]\n",
    "         )\n",
    "\n",
    "# Collect results\n",
    "train_loss = model.history.history[\"loss\"]\n",
    "valid_loss = model.history.history[\"val_loss\"]\n",
    "train_acc = model.history.history[\"acc\"]\n",
    "valid_acc = model.history.history[\"val_acc\"]\n"
   ]
  },
  {
   "cell_type": "code",
   "execution_count": 12,
   "metadata": {},
   "outputs": [],
   "source": [
    "\"\"\"Code Here\n",
    "將 tp/tn 從訓練完的模型中取出\n",
    "\"\"\"\n",
    "valid_tp = model.history.history['true_positives']\n",
    "valid_tn = model.history.history['true_negatives']"
   ]
  },
  {
   "cell_type": "code",
   "execution_count": 13,
   "metadata": {},
   "outputs": [
    {
     "data": {
      "image/png": "[encoded data removed]",
      "text/plain": [
       "<Figure size 432x288 with 1 Axes>"
      ]
     },
     "metadata": {
      "needs_background": "light"
     },
     "output_type": "display_data"
    },
    {
     "data": {
      "image/png": "[encoded data removed]",
      "text/plain": [
       "<Figure size 432x288 with 1 Axes>"
      ]
     },
     "metadata": {
      "needs_background": "light"
     },
     "output_type": "display_data"
    },
    {
     "data": {
      "image/png": "[encoded data removed]",
      "text/plain": [
       "<Figure size 432x288 with 1 Axes>"
      ]
     },
     "metadata": {
      "needs_background": "light"
     },
     "output_type": "display_data"
    }
   ],
   "source": [
    "import matplotlib.pyplot as plt\n",
    "%matplotlib inline\n",
    "\n",
    "plt.plot(range(len(train_loss)), train_loss, label=\"train loss\")\n",
    "plt.plot(range(len(valid_loss)), valid_loss, label=\"valid loss\")\n",
    "plt.legend()\n",
    "plt.title(\"Loss\")\n",
    "plt.show()\n",
    "\n",
    "plt.plot(range(len(train_acc)), train_acc, label=\"train accuracy\")\n",
    "plt.plot(range(len(valid_acc)), valid_acc, label=\"valid accuracy\")\n",
    "plt.legend()\n",
    "plt.title(\"Accuracy\")\n",
    "plt.show()\n",
    "\n",
    "plt.plot(range(len(valid_tp)), valid_tp, label=\"valid tp\", color=\"navy\")\n",
    "plt.plot(range(len(valid_tn)), valid_tn, label=\"valid tn\", color=\"red\")\n",
    "plt.legend()\n",
    "plt.title(\"True positives and True Negatives\")\n",
    "plt.show()\n"
   ]
  }
 ],
 "metadata": {
  "kernelspec": {
   "display_name": "Python 3",
   "language": "python",
   "name": "python3"
  },
  "language_info": {
   "codemirror_mode": {
    "name": "ipython",
    "version": 3
   },
   "file_extension": ".py",
   "mimetype": "text/x-python",
   "name": "python",
   "nbconvert_exporter": "python",
   "pygments_lexer": "ipython3",
   "version": "3.7.3"
  }
 },
 "nbformat": 4,
 "nbformat_minor": 2
}
