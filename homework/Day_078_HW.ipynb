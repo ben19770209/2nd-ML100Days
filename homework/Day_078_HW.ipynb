{
 "cells": [
  {
   "cell_type": "code",
   "execution_count": 2,
   "metadata": {},
   "outputs": [],
   "source": [
    "# https://github.com/plaidml/plaidml\n",
    "# https://informatics.sydney.edu.au/blogs/amdgpu/\n",
    "\n",
    "# Install the plaidml backend\n",
    "import plaidml.keras\n",
    "plaidml.keras.install_backend()"
   ]
  },
  {
   "cell_type": "markdown",
   "metadata": {},
   "source": [
    "## Work\n",
    "1. 請嘗試將 preproc_x 替換成以每筆資料的 min/max 進行標準化至 -1 ~ 1 間，再進行訓練\n",
    "2. 請嘗試將 mlp 疊更深 (e.g 5~10 層)，進行訓練後觀察 learning curve 的走勢\n",
    "3. (optional) 請改用 GPU 進行訓練 (如果你有 GPU 的話)，比較使用 CPU 與 GPU 的訓練速度"
   ]
  },
  {
   "cell_type": "code",
   "execution_count": 3,
   "metadata": {},
   "outputs": [
    {
     "data": {
      "text/plain": [
       "'\\nYour code here (optional)\\n確認硬體資源\\n'"
      ]
     },
     "execution_count": 3,
     "metadata": {},
     "output_type": "execute_result"
    }
   ],
   "source": [
    "## \n",
    "\"\"\"\n",
    "Your code here (optional)\n",
    "確認硬體資源\n",
    "\"\"\""
   ]
  },
  {
   "cell_type": "code",
   "execution_count": 4,
   "metadata": {},
   "outputs": [],
   "source": [
    "import os\n",
    "import keras\n",
    "\n",
    "# 請嘗試設定 GPU：os.environ\n"
   ]
  },
  {
   "cell_type": "code",
   "execution_count": 5,
   "metadata": {},
   "outputs": [],
   "source": [
    "train, test = keras.datasets.cifar10.load_data()"
   ]
  },
  {
   "cell_type": "code",
   "execution_count": 6,
   "metadata": {},
   "outputs": [],
   "source": [
    "## 資料前處理\n",
    "\"\"\"\n",
    "Your code here\n",
    "\"\"\"\n",
    "def preproc_x(x, flatten=True):\n",
    "    x = x / 255.\n",
    "    if flatten:\n",
    "        x = x.reshape((len(x), -1))\n",
    "    return x\n",
    "\n",
    "def preproc_y(y, num_classes=10):\n",
    "    if y.shape[-1] == 1:\n",
    "        y = keras.utils.to_categorical(y, num_classes)\n",
    "    return y   "
   ]
  },
  {
   "cell_type": "code",
   "execution_count": 7,
   "metadata": {},
   "outputs": [],
   "source": [
    "x_train, y_train = train\n",
    "x_test, y_test = test\n",
    "\n",
    "# Preproc the inputs\n",
    "x_train = preproc_x(x_train)\n",
    "x_test = preproc_x(x_test)\n",
    "\n",
    "# Preprc the outputs\n",
    "y_train = preproc_y(y_train)\n",
    "y_test = preproc_y(y_test)"
   ]
  },
  {
   "cell_type": "code",
   "execution_count": 8,
   "metadata": {},
   "outputs": [
    {
     "name": "stderr",
     "output_type": "stream",
     "text": [
      "INFO:plaidml:Opening device \"opencl_amd_gfx902.0\"\n"
     ]
    },
    {
     "name": "stdout",
     "output_type": "stream",
     "text": [
      "_________________________________________________________________\n",
      "Layer (type)                 Output Shape              Param #   \n",
      "=================================================================\n",
      "input_1 (InputLayer)         (None, 3072)              0         \n",
      "_________________________________________________________________\n",
      "hidden_layer1 (Dense)        (None, 512)               1573376   \n",
      "_________________________________________________________________\n",
      "hidden_layer2 (Dense)        (None, 450)               230850    \n",
      "_________________________________________________________________\n",
      "hidden_layer3 (Dense)        (None, 400)               180400    \n",
      "_________________________________________________________________\n",
      "hidden_layer4 (Dense)        (None, 350)               140350    \n",
      "_________________________________________________________________\n",
      "hidden_layer5 (Dense)        (None, 300)               105300    \n",
      "_________________________________________________________________\n",
      "hidden_layer6 (Dense)        (None, 250)               75250     \n",
      "_________________________________________________________________\n",
      "hidden_layer7 (Dense)        (None, 200)               50200     \n",
      "_________________________________________________________________\n",
      "hidden_layer8 (Dense)        (None, 150)               30150     \n",
      "_________________________________________________________________\n",
      "hidden_layer9 (Dense)        (None, 100)               15100     \n",
      "_________________________________________________________________\n",
      "hidden_layer10 (Dense)       (None, 50)                5050      \n",
      "_________________________________________________________________\n",
      "hidden_layer11 (Dense)       (None, 25)                1275      \n",
      "_________________________________________________________________\n",
      "output (Dense)               (None, 10)                260       \n",
      "=================================================================\n",
      "Total params: 2,407,561\n",
      "Trainable params: 2,407,561\n",
      "Non-trainable params: 0\n",
      "_________________________________________________________________\n"
     ]
    }
   ],
   "source": [
    "\"\"\"Code Here\n",
    "建立你的神經網路\n",
    "\"\"\"\n",
    "def build_mlp(input_shape, output_units=10, num_neurons=[512, 450, 400, 350, 300, 250, 200, 150, 100, 50, 25]):\n",
    "    input_layer = keras.layers.Input(input_shape)\n",
    "    \n",
    "    for i, n_units in enumerate(num_neurons):\n",
    "        if i == 0:\n",
    "            x = keras.layers.Dense(units=n_units, activation=\"relu\", name=\"hidden_layer\"+str(i+1))(input_layer)\n",
    "        else:\n",
    "            x = keras.layers.Dense(units=n_units, activation=\"relu\", name=\"hidden_layer\"+str(i+1))(x)\n",
    "    \n",
    "    out = keras.layers.Dense(units=output_units, activation=\"softmax\", name=\"output\")(x)\n",
    "    \n",
    "    model = keras.models.Model(inputs=[input_layer], outputs=[out])\n",
    "    return model\n",
    "\n",
    "model = build_mlp(input_shape=x_train.shape[1:])\n",
    "model.summary()"
   ]
  },
  {
   "cell_type": "code",
   "execution_count": 9,
   "metadata": {},
   "outputs": [],
   "source": [
    "## 超參數設定\n",
    "LEARNING_RATE = 0.001\n",
    "EPOCHS = 100\n",
    "BATCH_SIZE = 256"
   ]
  },
  {
   "cell_type": "code",
   "execution_count": 10,
   "metadata": {},
   "outputs": [],
   "source": [
    "optimizer = keras.optimizers.Adam(lr=LEARNING_RATE)\n",
    "model.compile(loss=\"categorical_crossentropy\", metrics=[\"accuracy\"], optimizer=optimizer)"
   ]
  },
  {
   "cell_type": "code",
   "execution_count": 11,
   "metadata": {},
   "outputs": [
    {
     "name": "stdout",
     "output_type": "stream",
     "text": [
      "Train on 50000 samples, validate on 10000 samples\n",
      "Epoch 1/100\n",
      "50000/50000 [==============================] - 29s 589us/step - loss: 2.0688 - acc: 0.2000 - val_loss: 1.9409 - val_acc: 0.2506\n",
      "Epoch 2/100\n",
      "50000/50000 [==============================] - 12s 245us/step - loss: 1.8662 - acc: 0.3060 - val_loss: 1.8596 - val_acc: 0.3228\n",
      "Epoch 3/100\n",
      "50000/50000 [==============================] - 12s 242us/step - loss: 1.7931 - acc: 0.3449 - val_loss: 1.7603 - val_acc: 0.3652\n",
      "Epoch 4/100\n",
      "50000/50000 [==============================] - 12s 240us/step - loss: 1.7035 - acc: 0.3839 - val_loss: 1.6584 - val_acc: 0.4056\n",
      "Epoch 5/100\n",
      "50000/50000 [==============================] - 12s 242us/step - loss: 1.6394 - acc: 0.4084 - val_loss: 1.6096 - val_acc: 0.4244\n",
      "Epoch 6/100\n",
      "50000/50000 [==============================] - 12s 242us/step - loss: 1.5812 - acc: 0.4309 - val_loss: 1.5792 - val_acc: 0.4455\n",
      "Epoch 7/100\n",
      "50000/50000 [==============================] - 13s 257us/step - loss: 1.5477 - acc: 0.4461 - val_loss: 1.5581 - val_acc: 0.4542\n",
      "Epoch 8/100\n",
      "50000/50000 [==============================] - 13s 253us/step - loss: 1.5018 - acc: 0.4599 - val_loss: 1.5480 - val_acc: 0.4521\n",
      "Epoch 9/100\n",
      "50000/50000 [==============================] - 12s 248us/step - loss: 1.4679 - acc: 0.4744 - val_loss: 1.4817 - val_acc: 0.4820\n",
      "Epoch 10/100\n",
      "50000/50000 [==============================] - 12s 238us/step - loss: 1.4327 - acc: 0.4871 - val_loss: 1.4599 - val_acc: 0.4828\n",
      "Epoch 11/100\n",
      "50000/50000 [==============================] - 13s 266us/step - loss: 1.3988 - acc: 0.4992 - val_loss: 1.4899 - val_acc: 0.4712\n",
      "Epoch 12/100\n",
      "50000/50000 [==============================] - 12s 238us/step - loss: 1.3762 - acc: 0.5067 - val_loss: 1.4576 - val_acc: 0.4829\n",
      "Epoch 13/100\n",
      "50000/50000 [==============================] - 12s 240us/step - loss: 1.3455 - acc: 0.5172 - val_loss: 1.5037 - val_acc: 0.4701\n",
      "Epoch 14/100\n",
      "50000/50000 [==============================] - 12s 237us/step - loss: 1.3114 - acc: 0.5319 - val_loss: 1.4361 - val_acc: 0.4966\n",
      "Epoch 15/100\n",
      "50000/50000 [==============================] - 12s 237us/step - loss: 1.2884 - acc: 0.5381 - val_loss: 1.4515 - val_acc: 0.4923\n",
      "Epoch 16/100\n",
      "50000/50000 [==============================] - 12s 238us/step - loss: 1.2539 - acc: 0.5501 - val_loss: 1.4253 - val_acc: 0.5012\n",
      "Epoch 17/100\n",
      "50000/50000 [==============================] - 12s 237us/step - loss: 1.2342 - acc: 0.5581 - val_loss: 1.4534 - val_acc: 0.4942\n",
      "Epoch 18/100\n",
      "50000/50000 [==============================] - 12s 236us/step - loss: 1.2022 - acc: 0.5722 - val_loss: 1.4504 - val_acc: 0.5056\n",
      "Epoch 19/100\n",
      "50000/50000 [==============================] - 12s 239us/step - loss: 1.1791 - acc: 0.5798 - val_loss: 1.4597 - val_acc: 0.4965\n",
      "Epoch 20/100\n",
      "50000/50000 [==============================] - 12s 239us/step - loss: 1.1425 - acc: 0.5945 - val_loss: 1.4547 - val_acc: 0.5119\n",
      "Epoch 21/100\n",
      "50000/50000 [==============================] - 12s 238us/step - loss: 1.1112 - acc: 0.6036 - val_loss: 1.4568 - val_acc: 0.5111\n",
      "Epoch 22/100\n",
      "50000/50000 [==============================] - 12s 237us/step - loss: 1.0800 - acc: 0.6111 - val_loss: 1.4539 - val_acc: 0.5094\n",
      "Epoch 23/100\n",
      "50000/50000 [==============================] - 12s 238us/step - loss: 1.0418 - acc: 0.6288 - val_loss: 1.5043 - val_acc: 0.5064\n",
      "Epoch 24/100\n",
      "50000/50000 [==============================] - 12s 238us/step - loss: 1.0177 - acc: 0.6350 - val_loss: 1.5383 - val_acc: 0.5046\n",
      "Epoch 25/100\n",
      "50000/50000 [==============================] - 12s 238us/step - loss: 0.9713 - acc: 0.6529 - val_loss: 1.5885 - val_acc: 0.4856\n",
      "Epoch 26/100\n",
      "50000/50000 [==============================] - 12s 237us/step - loss: 0.9565 - acc: 0.6599 - val_loss: 1.5446 - val_acc: 0.4949\n",
      "Epoch 27/100\n",
      "50000/50000 [==============================] - 12s 241us/step - loss: 0.9306 - acc: 0.6653 - val_loss: 1.6345 - val_acc: 0.5081\n",
      "Epoch 28/100\n",
      "50000/50000 [==============================] - 12s 239us/step - loss: 0.9001 - acc: 0.6792 - val_loss: 1.6844 - val_acc: 0.4802\n",
      "Epoch 29/100\n",
      "50000/50000 [==============================] - 12s 240us/step - loss: 0.8537 - acc: 0.6932 - val_loss: 1.6644 - val_acc: 0.4964\n",
      "Epoch 30/100\n",
      "50000/50000 [==============================] - 12s 238us/step - loss: 0.8354 - acc: 0.7018 - val_loss: 1.6678 - val_acc: 0.4907\n",
      "Epoch 31/100\n",
      "50000/50000 [==============================] - 15s 298us/step - loss: 0.7899 - acc: 0.7175 - val_loss: 1.7886 - val_acc: 0.4974\n",
      "Epoch 32/100\n",
      "50000/50000 [==============================] - 12s 238us/step - loss: 0.7556 - acc: 0.7304 - val_loss: 1.6957 - val_acc: 0.4777\n",
      "Epoch 33/100\n",
      "50000/50000 [==============================] - 12s 239us/step - loss: 0.7376 - acc: 0.7364 - val_loss: 1.9148 - val_acc: 0.4947\n",
      "Epoch 34/100\n",
      "50000/50000 [==============================] - 12s 236us/step - loss: 0.7070 - acc: 0.7492 - val_loss: 1.7986 - val_acc: 0.4973\n",
      "Epoch 35/100\n",
      "50000/50000 [==============================] - 12s 243us/step - loss: 0.6801 - acc: 0.7569 - val_loss: 1.9252 - val_acc: 0.4896\n",
      "Epoch 36/100\n",
      "50000/50000 [==============================] - 12s 239us/step - loss: 0.6448 - acc: 0.7711 - val_loss: 1.9428 - val_acc: 0.4975\n",
      "Epoch 37/100\n",
      "50000/50000 [==============================] - 12s 239us/step - loss: 0.6313 - acc: 0.7780 - val_loss: 1.9514 - val_acc: 0.4881\n",
      "Epoch 38/100\n",
      "50000/50000 [==============================] - 12s 237us/step - loss: 0.5968 - acc: 0.7903 - val_loss: 2.0939 - val_acc: 0.4874\n",
      "Epoch 39/100\n",
      "50000/50000 [==============================] - 12s 239us/step - loss: 0.5721 - acc: 0.7979 - val_loss: 2.0866 - val_acc: 0.4886\n",
      "Epoch 40/100\n",
      "50000/50000 [==============================] - 12s 240us/step - loss: 0.5523 - acc: 0.8037 - val_loss: 2.1250 - val_acc: 0.4975\n",
      "Epoch 41/100\n",
      "50000/50000 [==============================] - 12s 240us/step - loss: 0.5144 - acc: 0.8174 - val_loss: 2.1385 - val_acc: 0.4910\n",
      "Epoch 42/100\n",
      "50000/50000 [==============================] - 12s 239us/step - loss: 0.5121 - acc: 0.8187 - val_loss: 2.1323 - val_acc: 0.4939\n",
      "Epoch 43/100\n",
      "50000/50000 [==============================] - 12s 241us/step - loss: 0.4753 - acc: 0.8310 - val_loss: 2.3661 - val_acc: 0.4785\n",
      "Epoch 44/100\n",
      "50000/50000 [==============================] - 12s 237us/step - loss: 0.4701 - acc: 0.8357 - val_loss: 2.3564 - val_acc: 0.4836\n",
      "Epoch 45/100\n",
      "50000/50000 [==============================] - 12s 243us/step - loss: 0.4573 - acc: 0.8381 - val_loss: 2.2668 - val_acc: 0.4831\n",
      "Epoch 46/100\n",
      "50000/50000 [==============================] - 12s 237us/step - loss: 0.4531 - acc: 0.8397 - val_loss: 2.4734 - val_acc: 0.4858\n",
      "Epoch 47/100\n",
      "50000/50000 [==============================] - 12s 242us/step - loss: 0.4025 - acc: 0.8604 - val_loss: 2.4281 - val_acc: 0.4855\n",
      "Epoch 48/100\n",
      "50000/50000 [==============================] - 12s 241us/step - loss: 0.3959 - acc: 0.8626 - val_loss: 2.4444 - val_acc: 0.4984\n",
      "Epoch 49/100\n",
      "50000/50000 [==============================] - 12s 238us/step - loss: 0.3688 - acc: 0.8712 - val_loss: 2.7213 - val_acc: 0.4798\n",
      "Epoch 50/100\n",
      "50000/50000 [==============================] - 12s 237us/step - loss: 0.3808 - acc: 0.8676 - val_loss: 2.6387 - val_acc: 0.4814\n",
      "Epoch 51/100\n",
      "50000/50000 [==============================] - 12s 241us/step - loss: 0.3528 - acc: 0.8762 - val_loss: 2.5788 - val_acc: 0.4831\n",
      "Epoch 52/100\n",
      "50000/50000 [==============================] - 12s 240us/step - loss: 0.3453 - acc: 0.8790 - val_loss: 2.7797 - val_acc: 0.4855\n",
      "Epoch 53/100\n",
      "50000/50000 [==============================] - 12s 240us/step - loss: 0.3272 - acc: 0.8867 - val_loss: 2.6734 - val_acc: 0.4854\n",
      "Epoch 54/100\n",
      "50000/50000 [==============================] - 12s 241us/step - loss: 0.3216 - acc: 0.8898 - val_loss: 2.8028 - val_acc: 0.4869\n",
      "Epoch 55/100\n",
      "50000/50000 [==============================] - 12s 244us/step - loss: 0.3045 - acc: 0.8946 - val_loss: 2.8135 - val_acc: 0.489548 - a\n",
      "Epoch 56/100\n",
      "50000/50000 [==============================] - 12s 245us/step - loss: 0.3006 - acc: 0.8972 - val_loss: 2.9628 - val_acc: 0.4838\n",
      "Epoch 57/100\n",
      "50000/50000 [==============================] - 12s 243us/step - loss: 0.3112 - acc: 0.8938 - val_loss: 2.8064 - val_acc: 0.4800\n",
      "Epoch 58/100\n",
      "50000/50000 [==============================] - 12s 242us/step - loss: 0.2733 - acc: 0.9060 - val_loss: 2.9892 - val_acc: 0.4797\n"
     ]
    },
    {
     "name": "stdout",
     "output_type": "stream",
     "text": [
      "Epoch 59/100\n",
      "50000/50000 [==============================] - 12s 241us/step - loss: 0.2862 - acc: 0.9024 - val_loss: 2.8526 - val_acc: 0.4837\n",
      "Epoch 60/100\n",
      "50000/50000 [==============================] - 12s 243us/step - loss: 0.2620 - acc: 0.9098 - val_loss: 2.9178 - val_acc: 0.4849\n",
      "Epoch 61/100\n",
      "50000/50000 [==============================] - 12s 243us/step - loss: 0.2789 - acc: 0.9045 - val_loss: 3.0297 - val_acc: 0.4738\n",
      "Epoch 62/100\n",
      "50000/50000 [==============================] - 12s 241us/step - loss: 0.2547 - acc: 0.9136 - val_loss: 2.8527 - val_acc: 0.4868\n",
      "Epoch 63/100\n",
      "50000/50000 [==============================] - 12s 240us/step - loss: 0.2632 - acc: 0.9105 - val_loss: 2.9900 - val_acc: 0.4833\n",
      "Epoch 64/100\n",
      "50000/50000 [==============================] - 12s 242us/step - loss: 0.2535 - acc: 0.9134 - val_loss: 2.7296 - val_acc: 0.4798\n",
      "Epoch 65/100\n",
      "50000/50000 [==============================] - 12s 241us/step - loss: 0.2388 - acc: 0.9184 - val_loss: 3.0081 - val_acc: 0.4807\n",
      "Epoch 66/100\n",
      "50000/50000 [==============================] - 12s 241us/step - loss: 0.2302 - acc: 0.9220 - val_loss: 3.0510 - val_acc: 0.4770\n",
      "Epoch 67/100\n",
      "50000/50000 [==============================] - 12s 240us/step - loss: 0.2182 - acc: 0.9252 - val_loss: 3.2452 - val_acc: 0.4830\n",
      "Epoch 68/100\n",
      "50000/50000 [==============================] - 12s 239us/step - loss: 0.2208 - acc: 0.9245 - val_loss: 3.0320 - val_acc: 0.4782\n",
      "Epoch 69/100\n",
      "50000/50000 [==============================] - 12s 241us/step - loss: 0.2073 - acc: 0.9296 - val_loss: 3.0970 - val_acc: 0.4903\n",
      "Epoch 70/100\n",
      "50000/50000 [==============================] - 12s 238us/step - loss: 0.2187 - acc: 0.9256 - val_loss: 3.1922 - val_acc: 0.4826\n",
      "Epoch 71/100\n",
      "50000/50000 [==============================] - 12s 236us/step - loss: 0.2121 - acc: 0.9278 - val_loss: 3.2852 - val_acc: 0.4859\n",
      "Epoch 72/100\n",
      "50000/50000 [==============================] - 12s 238us/step - loss: 0.1932 - acc: 0.9352 - val_loss: 3.1151 - val_acc: 0.4851\n",
      "Epoch 73/100\n",
      "50000/50000 [==============================] - 12s 236us/step - loss: 0.2008 - acc: 0.9322 - val_loss: 3.0904 - val_acc: 0.4877\n",
      "Epoch 74/100\n",
      "50000/50000 [==============================] - 12s 237us/step - loss: 0.2021 - acc: 0.9306 - val_loss: 3.1834 - val_acc: 0.4886\n",
      "Epoch 75/100\n",
      "50000/50000 [==============================] - 12s 240us/step - loss: 0.1882 - acc: 0.9364 - val_loss: 3.2162 - val_acc: 0.4925\n",
      "Epoch 76/100\n",
      "50000/50000 [==============================] - 12s 241us/step - loss: 0.1946 - acc: 0.9339 - val_loss: 3.2618 - val_acc: 0.4829\n",
      "Epoch 77/100\n",
      "50000/50000 [==============================] - 12s 244us/step - loss: 0.1803 - acc: 0.9385 - val_loss: 3.3366 - val_acc: 0.4809\n",
      "Epoch 78/100\n",
      "50000/50000 [==============================] - 12s 240us/step - loss: 0.1778 - acc: 0.9392 - val_loss: 3.1803 - val_acc: 0.4832\n",
      "Epoch 79/100\n",
      "50000/50000 [==============================] - 12s 239us/step - loss: 0.1854 - acc: 0.9376 - val_loss: 3.0650 - val_acc: 0.4819\n",
      "Epoch 80/100\n",
      "50000/50000 [==============================] - 12s 242us/step - loss: 0.1771 - acc: 0.9402 - val_loss: 3.1168 - val_acc: 0.4845\n",
      "Epoch 81/100\n",
      "50000/50000 [==============================] - 12s 242us/step - loss: 0.1762 - acc: 0.9400 - val_loss: 3.1348 - val_acc: 0.4794\n",
      "Epoch 82/100\n",
      "50000/50000 [==============================] - 12s 238us/step - loss: 0.1694 - acc: 0.9440 - val_loss: 3.2023 - val_acc: 0.4846\n",
      "Epoch 83/100\n",
      "50000/50000 [==============================] - 12s 238us/step - loss: 0.1698 - acc: 0.9423 - val_loss: 3.2985 - val_acc: 0.4841\n",
      "Epoch 84/100\n",
      "50000/50000 [==============================] - 12s 237us/step - loss: 0.1689 - acc: 0.9426 - val_loss: 3.1380 - val_acc: 0.4834\n",
      "Epoch 85/100\n",
      "50000/50000 [==============================] - 12s 237us/step - loss: 0.1594 - acc: 0.9470 - val_loss: 3.2906 - val_acc: 0.4813\n",
      "Epoch 86/100\n",
      "50000/50000 [==============================] - 12s 236us/step - loss: 0.1579 - acc: 0.9465 - val_loss: 2.9662 - val_acc: 0.4848\n",
      "Epoch 87/100\n",
      "50000/50000 [==============================] - 12s 240us/step - loss: 0.1773 - acc: 0.9403 - val_loss: 3.2051 - val_acc: 0.4824\n",
      "Epoch 88/100\n",
      "50000/50000 [==============================] - 12s 238us/step - loss: 0.1420 - acc: 0.9520 - val_loss: 3.3144 - val_acc: 0.4880\n",
      "Epoch 89/100\n",
      "50000/50000 [==============================] - 12s 238us/step - loss: 0.1512 - acc: 0.9489 - val_loss: 3.1884 - val_acc: 0.4772\n",
      "Epoch 90/100\n",
      "50000/50000 [==============================] - 12s 239us/step - loss: 0.1610 - acc: 0.9464 - val_loss: 3.4680 - val_acc: 0.4694\n",
      "Epoch 91/100\n",
      "50000/50000 [==============================] - 12s 239us/step - loss: 0.1378 - acc: 0.9525 - val_loss: 3.2120 - val_acc: 0.4765\n",
      "Epoch 92/100\n",
      "50000/50000 [==============================] - 12s 240us/step - loss: 0.1490 - acc: 0.9500 - val_loss: 3.4228 - val_acc: 0.4832oss: 0.1504 \n",
      "Epoch 93/100\n",
      "50000/50000 [==============================] - 12s 240us/step - loss: 0.1497 - acc: 0.9509 - val_loss: 3.3975 - val_acc: 0.4806\n",
      "Epoch 94/100\n",
      "50000/50000 [==============================] - 12s 236us/step - loss: 0.1576 - acc: 0.9472 - val_loss: 3.0532 - val_acc: 0.4885\n",
      "Epoch 95/100\n",
      "50000/50000 [==============================] - 12s 240us/step - loss: 0.1304 - acc: 0.9572 - val_loss: 3.5301 - val_acc: 0.4884\n",
      "Epoch 96/100\n",
      "50000/50000 [==============================] - 12s 245us/step - loss: 0.1438 - acc: 0.9515 - val_loss: 3.3439 - val_acc: 0.4824\n",
      "Epoch 97/100\n",
      "50000/50000 [==============================] - 12s 241us/step - loss: 0.1407 - acc: 0.9533 - val_loss: 3.3246 - val_acc: 0.4827\n",
      "Epoch 98/100\n",
      "50000/50000 [==============================] - 12s 238us/step - loss: 0.1481 - acc: 0.9502 - val_loss: 3.3710 - val_acc: 0.4809\n",
      "Epoch 99/100\n",
      "50000/50000 [==============================] - 12s 240us/step - loss: 0.1441 - acc: 0.9522 - val_loss: 3.3512 - val_acc: 0.4838\n",
      "Epoch 100/100\n",
      "50000/50000 [==============================] - 12s 238us/step - loss: 0.1373 - acc: 0.9543 - val_loss: 3.1827 - val_acc: 0.4805\n"
     ]
    },
    {
     "data": {
      "text/plain": [
       "<keras.callbacks.History at 0x1484eafd438>"
      ]
     },
     "execution_count": 11,
     "metadata": {},
     "output_type": "execute_result"
    }
   ],
   "source": [
    "model.fit(x_train, y_train, \n",
    "          epochs=EPOCHS, \n",
    "          batch_size=BATCH_SIZE, \n",
    "          validation_data=(x_test, y_test), \n",
    "          shuffle=True)"
   ]
  },
  {
   "cell_type": "code",
   "execution_count": 13,
   "metadata": {},
   "outputs": [
    {
     "data": {
      "image/png": "[encoded data removed]",
      "text/plain": [
       "<Figure size 432x288 with 1 Axes>"
      ]
     },
     "metadata": {
      "needs_background": "light"
     },
     "output_type": "display_data"
    },
    {
     "data": {
      "image/png": "[encoded data removed]",
      "text/plain": [
       "<Figure size 432x288 with 1 Axes>"
      ]
     },
     "metadata": {
      "needs_background": "light"
     },
     "output_type": "display_data"
    }
   ],
   "source": [
    "import matplotlib.pyplot as plt\n",
    "\n",
    "\n",
    "train_loss = model.history.history[\"loss\"]\n",
    "valid_loss = model.history.history[\"val_loss\"]\n",
    "\n",
    "train_acc = model.history.history[\"acc\"]\n",
    "\n",
    "valid_acc = model.history.history[\"val_acc\"]\n",
    "\n",
    "plt.plot(range(len(train_loss)), train_loss, label=\"train loss\")\n",
    "plt.plot(range(len(valid_loss)), valid_loss, label=\"valid loss\")\n",
    "plt.legend()\n",
    "plt.title(\"Loss\")\n",
    "plt.show()\n",
    "\n",
    "plt.plot(range(len(train_acc)), train_acc, label=\"train accuracy\")\n",
    "plt.plot(range(len(valid_acc)), valid_acc, label=\"valid accuracy\")\n",
    "plt.legend()\n",
    "plt.title(\"Accuracy\")\n",
    "plt.show()"
   ]
  },
  {
   "cell_type": "code",
   "execution_count": null,
   "metadata": {},
   "outputs": [],
   "source": []
  }
 ],
 "metadata": {
  "kernelspec": {
   "display_name": "Python 3",
   "language": "python",
   "name": "python3"
  },
  "language_info": {
   "codemirror_mode": {
    "name": "ipython",
    "version": 3
   },
   "file_extension": ".py",
   "mimetype": "text/x-python",
   "name": "python",
   "nbconvert_exporter": "python",
   "pygments_lexer": "ipython3",
   "version": "3.7.3"
  }
 },
 "nbformat": 4,
 "nbformat_minor": 2
}
