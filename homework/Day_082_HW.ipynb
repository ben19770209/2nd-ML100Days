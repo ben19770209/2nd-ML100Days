{
 "cells": [
  {
   "cell_type": "code",
   "execution_count": 1,
   "metadata": {},
   "outputs": [],
   "source": [
    "# https://github.com/plaidml/plaidml\n",
    "# https://informatics.sydney.edu.au/blogs/amdgpu/\n",
    "\n",
    "# Install the plaidml backend\n",
    "import plaidml.keras\n",
    "plaidml.keras.install_backend()"
   ]
  },
  {
   "cell_type": "markdown",
   "metadata": {},
   "source": [
    "## Work\n",
    "1. 請比較使用不同層數以及不同 Dropout rate 對訓練的效果\n",
    "2. 將 optimizer 改成使用 Adam 並加上適當的 dropout rate 檢視結果"
   ]
  },
  {
   "cell_type": "code",
   "execution_count": 2,
   "metadata": {},
   "outputs": [],
   "source": [
    "import os\n",
    "import keras\n",
    "import itertools\n",
    "# Disable GPU\n",
    "os.environ[\"CUDA_VISIBLE_DEVICES\"] = \"\""
   ]
  },
  {
   "cell_type": "code",
   "execution_count": 3,
   "metadata": {},
   "outputs": [],
   "source": [
    "train, test = keras.datasets.cifar10.load_data()"
   ]
  },
  {
   "cell_type": "code",
   "execution_count": 4,
   "metadata": {},
   "outputs": [],
   "source": [
    "## 資料前處理\n",
    "def preproc_x(x, flatten=True):\n",
    "    x = x / 255.\n",
    "    if flatten:\n",
    "        x = x.reshape((len(x), -1))\n",
    "    return x\n",
    "\n",
    "def preproc_y(y, num_classes=10):\n",
    "    if y.shape[-1] == 1:\n",
    "        y = keras.utils.to_categorical(y, num_classes)\n",
    "    return y    "
   ]
  },
  {
   "cell_type": "code",
   "execution_count": 5,
   "metadata": {},
   "outputs": [],
   "source": [
    "x_train, y_train = train\n",
    "x_test, y_test = test\n",
    "\n",
    "# Preproc the inputs\n",
    "x_train = preproc_x(x_train)\n",
    "x_test = preproc_x(x_test)\n",
    "\n",
    "# Preprc the outputs\n",
    "y_train = preproc_y(y_train)\n",
    "y_test = preproc_y(y_test)"
   ]
  },
  {
   "cell_type": "code",
   "execution_count": 6,
   "metadata": {},
   "outputs": [],
   "source": [
    "from keras.layers import Dropout\n",
    "\n",
    "\"\"\"\n",
    "建立神經網路，並加入 dropout layer\n",
    "\"\"\"\n",
    "def build_mlp(input_shape, output_units=10, num_neurons=[512, 256, 128], drp_ratio=0.2):\n",
    "    input_layer = keras.layers.Input(input_shape)\n",
    "    \n",
    "    for i, n_units in enumerate(num_neurons):\n",
    "        if i == 0:\n",
    "            x = keras.layers.Dense(units=n_units, \n",
    "                                   activation=\"relu\", \n",
    "                                   name=\"hidden_layer\"+str(i+1))(input_layer)\n",
    "            x = Dropout(drp_ratio)(x)\n",
    "        else:\n",
    "            x = keras.layers.Dense(units=n_units, \n",
    "                                   activation=\"relu\", \n",
    "                                   name=\"hidden_layer\"+str(i+1))(x)\n",
    "            x = Dropout(drp_ratio)(x)\n",
    "    \n",
    "    out = keras.layers.Dense(units=output_units, activation=\"softmax\", name=\"output\")(x)\n",
    "    \n",
    "    model = keras.models.Model(inputs=[input_layer], outputs=[out])\n",
    "    return model"
   ]
  },
  {
   "cell_type": "code",
   "execution_count": 7,
   "metadata": {},
   "outputs": [],
   "source": [
    "## 超參數設定\n",
    "LEARNING_RATE = 1e-3\n",
    "EPOCHS = 50\n",
    "BATCH_SIZE = 256\n",
    "MOMENTUM = 0.95\n",
    "Dropout_EXP = 0.4"
   ]
  },
  {
   "cell_type": "code",
   "execution_count": 8,
   "metadata": {
    "scrolled": true
   },
   "outputs": [
    {
     "name": "stderr",
     "output_type": "stream",
     "text": [
      "INFO:plaidml:Opening device \"opencl_amd_gfx902.0\"\n"
     ]
    },
    {
     "name": "stdout",
     "output_type": "stream",
     "text": [
      "_________________________________________________________________\n",
      "Layer (type)                 Output Shape              Param #   \n",
      "=================================================================\n",
      "input_1 (InputLayer)         (None, 3072)              0         \n",
      "_________________________________________________________________\n",
      "hidden_layer1 (Dense)        (None, 512)               1573376   \n",
      "_________________________________________________________________\n",
      "dropout_1 (Dropout)          (None, 512)               0         \n",
      "_________________________________________________________________\n",
      "hidden_layer2 (Dense)        (None, 256)               131328    \n",
      "_________________________________________________________________\n",
      "dropout_2 (Dropout)          (None, 256)               0         \n",
      "_________________________________________________________________\n",
      "hidden_layer3 (Dense)        (None, 128)               32896     \n",
      "_________________________________________________________________\n",
      "dropout_3 (Dropout)          (None, 128)               0         \n",
      "_________________________________________________________________\n",
      "output (Dense)               (None, 10)                1290      \n",
      "=================================================================\n",
      "Total params: 1,738,890\n",
      "Trainable params: 1,738,890\n",
      "Non-trainable params: 0\n",
      "_________________________________________________________________\n",
      "Train on 50000 samples, validate on 10000 samples\n",
      "Epoch 1/50\n",
      "50000/50000 [==============================] - 16s 313us/step - loss: 2.1392 - acc: 0.1988 - val_loss: 1.9789 - val_acc: 0.2708\n",
      "Epoch 2/50\n",
      "50000/50000 [==============================] - 8s 169us/step - loss: 2.0027 - acc: 0.2499 - val_loss: 1.8848 - val_acc: 0.3267\n",
      "Epoch 3/50\n",
      "50000/50000 [==============================] - 9s 171us/step - loss: 1.9604 - acc: 0.2675 - val_loss: 1.8918 - val_acc: 0.3254\n",
      "Epoch 4/50\n",
      "50000/50000 [==============================] - 9s 171us/step - loss: 1.9455 - acc: 0.2766 - val_loss: 1.8898 - val_acc: 0.3356\n",
      "Epoch 5/50\n",
      "50000/50000 [==============================] - 9s 172us/step - loss: 1.9286 - acc: 0.2809 - val_loss: 1.8606 - val_acc: 0.3327\n",
      "Epoch 6/50\n",
      "50000/50000 [==============================] - 9s 171us/step - loss: 1.9088 - acc: 0.2919 - val_loss: 1.8665 - val_acc: 0.3407\n",
      "Epoch 7/50\n",
      "50000/50000 [==============================] - 8s 170us/step - loss: 1.9051 - acc: 0.2959 - val_loss: 1.8647 - val_acc: 0.3285\n",
      "Epoch 8/50\n",
      "50000/50000 [==============================] - 9s 171us/step - loss: 1.8904 - acc: 0.3002 - val_loss: 1.8466 - val_acc: 0.3453\n",
      "Epoch 9/50\n",
      "50000/50000 [==============================] - 8s 170us/step - loss: 1.8836 - acc: 0.3054 - val_loss: 1.8754 - val_acc: 0.3383\n",
      "Epoch 10/50\n",
      "50000/50000 [==============================] - 9s 172us/step - loss: 1.8806 - acc: 0.3036 - val_loss: 1.8383 - val_acc: 0.3586\n",
      "Epoch 11/50\n",
      "50000/50000 [==============================] - 9s 170us/step - loss: 1.8759 - acc: 0.3098 - val_loss: 1.8699 - val_acc: 0.3493\n",
      "Epoch 12/50\n",
      "50000/50000 [==============================] - 9s 172us/step - loss: 1.8803 - acc: 0.3110 - val_loss: 1.8295 - val_acc: 0.3635\n",
      "Epoch 13/50\n",
      "50000/50000 [==============================] - 9s 171us/step - loss: 1.8666 - acc: 0.3139 - val_loss: 1.8141 - val_acc: 0.3656\n",
      "Epoch 14/50\n",
      "50000/50000 [==============================] - 9s 172us/step - loss: 1.8599 - acc: 0.3170 - val_loss: 1.8286 - val_acc: 0.3520\n",
      "Epoch 15/50\n",
      "50000/50000 [==============================] - 8s 170us/step - loss: 1.8561 - acc: 0.3167 - val_loss: 1.8144 - val_acc: 0.3759\n",
      "Epoch 16/50\n",
      "50000/50000 [==============================] - 9s 171us/step - loss: 1.8479 - acc: 0.3236 - val_loss: 1.8238 - val_acc: 0.3619\n",
      "Epoch 17/50\n",
      "50000/50000 [==============================] - 9s 171us/step - loss: 1.8483 - acc: 0.3245 - val_loss: 1.8034 - val_acc: 0.3753\n",
      "Epoch 18/50\n",
      "50000/50000 [==============================] - 9s 172us/step - loss: 1.8384 - acc: 0.3268 - val_loss: 1.8153 - val_acc: 0.3651\n",
      "Epoch 19/50\n",
      "50000/50000 [==============================] - 9s 173us/step - loss: 1.8359 - acc: 0.3264 - val_loss: 1.8012 - val_acc: 0.3670\n",
      "Epoch 20/50\n",
      "50000/50000 [==============================] - 9s 171us/step - loss: 1.8349 - acc: 0.3231 - val_loss: 1.7822 - val_acc: 0.3775\n",
      "Epoch 21/50\n",
      "50000/50000 [==============================] - 9s 173us/step - loss: 1.8281 - acc: 0.3301 - val_loss: 1.7724 - val_acc: 0.3827\n",
      "Epoch 22/50\n",
      "50000/50000 [==============================] - 9s 172us/step - loss: 1.8311 - acc: 0.3276 - val_loss: 1.7821 - val_acc: 0.3816\n",
      "Epoch 23/50\n",
      "50000/50000 [==============================] - 9s 173us/step - loss: 1.8204 - acc: 0.3334 - val_loss: 1.7741 - val_acc: 0.3838\n",
      "Epoch 24/50\n",
      "50000/50000 [==============================] - 9s 174us/step - loss: 1.8198 - acc: 0.3364 - val_loss: 1.8154 - val_acc: 0.3629\n",
      "Epoch 25/50\n",
      "50000/50000 [==============================] - 9s 174us/step - loss: 1.8163 - acc: 0.3355 - val_loss: 1.7570 - val_acc: 0.3917\n",
      "Epoch 26/50\n",
      "50000/50000 [==============================] - 9s 172us/step - loss: 1.8128 - acc: 0.3379 - val_loss: 1.7937 - val_acc: 0.3688\n",
      "Epoch 27/50\n",
      "50000/50000 [==============================] - 9s 173us/step - loss: 1.8089 - acc: 0.3391 - val_loss: 1.7854 - val_acc: 0.3867\n",
      "Epoch 28/50\n",
      "50000/50000 [==============================] - 9s 172us/step - loss: 1.8096 - acc: 0.3370 - val_loss: 1.7929 - val_acc: 0.3641\n",
      "Epoch 29/50\n",
      "50000/50000 [==============================] - 9s 174us/step - loss: 1.8059 - acc: 0.3407 - val_loss: 1.7791 - val_acc: 0.3837\n",
      "Epoch 30/50\n",
      "50000/50000 [==============================] - 9s 176us/step - loss: 1.8051 - acc: 0.3399 - val_loss: 1.7586 - val_acc: 0.3888\n",
      "Epoch 31/50\n",
      "50000/50000 [==============================] - 9s 173us/step - loss: 1.8019 - acc: 0.3419 - val_loss: 1.7761 - val_acc: 0.3718\n",
      "Epoch 32/50\n",
      "50000/50000 [==============================] - 9s 173us/step - loss: 1.8020 - acc: 0.3417 - val_loss: 1.7774 - val_acc: 0.3740\n",
      "Epoch 33/50\n",
      "50000/50000 [==============================] - 9s 173us/step - loss: 1.8035 - acc: 0.3428 - val_loss: 1.7798 - val_acc: 0.3812\n",
      "Epoch 34/50\n",
      "50000/50000 [==============================] - 9s 172us/step - loss: 1.8029 - acc: 0.3457 - val_loss: 1.7813 - val_acc: 0.3721\n",
      "Epoch 35/50\n",
      "50000/50000 [==============================] - 9s 172us/step - loss: 1.7993 - acc: 0.3424 - val_loss: 1.7765 - val_acc: 0.3705\n",
      "Epoch 36/50\n",
      "50000/50000 [==============================] - 9s 172us/step - loss: 1.7897 - acc: 0.3486 - val_loss: 1.7567 - val_acc: 0.3927\n",
      "Epoch 37/50\n",
      "50000/50000 [==============================] - 9s 170us/step - loss: 1.7902 - acc: 0.3457 - val_loss: 1.7387 - val_acc: 0.3829\n",
      "Epoch 38/50\n",
      "50000/50000 [==============================] - 9s 172us/step - loss: 1.7828 - acc: 0.3496 - val_loss: 1.7343 - val_acc: 0.3873\n",
      "Epoch 39/50\n",
      "50000/50000 [==============================] - 9s 172us/step - loss: 1.7873 - acc: 0.3483 - val_loss: 1.7561 - val_acc: 0.3835\n",
      "Epoch 40/50\n",
      "50000/50000 [==============================] - 9s 173us/step - loss: 1.7849 - acc: 0.3525 - val_loss: 1.7494 - val_acc: 0.3935\n",
      "Epoch 41/50\n",
      "50000/50000 [==============================] - 9s 171us/step - loss: 1.7850 - acc: 0.3515 - val_loss: 1.7311 - val_acc: 0.4042\n",
      "Epoch 42/50\n",
      "50000/50000 [==============================] - 9s 172us/step - loss: 1.7829 - acc: 0.3502 - val_loss: 1.7407 - val_acc: 0.3960\n",
      "Epoch 43/50\n",
      "50000/50000 [==============================] - 9s 172us/step - loss: 1.7838 - acc: 0.3514 - val_loss: 1.7858 - val_acc: 0.3808\n",
      "Epoch 44/50\n",
      "50000/50000 [==============================] - 9s 172us/step - loss: 1.7819 - acc: 0.3491 - val_loss: 1.7818 - val_acc: 0.3847\n",
      "Epoch 45/50\n",
      "50000/50000 [==============================] - 9s 171us/step - loss: 1.7726 - acc: 0.3567 - val_loss: 1.7767 - val_acc: 0.3812\n",
      "Epoch 46/50\n",
      "50000/50000 [==============================] - 9s 170us/step - loss: 1.7749 - acc: 0.3556 - val_loss: 1.7294 - val_acc: 0.4041\n",
      "Epoch 47/50\n",
      "50000/50000 [==============================] - 9s 174us/step - loss: 1.7721 - acc: 0.3570 - val_loss: 1.7442 - val_acc: 0.3935\n",
      "Epoch 48/50\n",
      "50000/50000 [==============================] - 9s 170us/step - loss: 1.7694 - acc: 0.3603 - val_loss: 1.7611 - val_acc: 0.3952\n",
      "Epoch 49/50\n"
     ]
    },
    {
     "name": "stdout",
     "output_type": "stream",
     "text": [
      "50000/50000 [==============================] - 9s 173us/step - loss: 1.7609 - acc: 0.3599 - val_loss: 1.7382 - val_acc: 0.4085\n",
      "Epoch 50/50\n",
      "50000/50000 [==============================] - 9s 171us/step - loss: 1.7663 - acc: 0.3597 - val_loss: 1.7643 - val_acc: 0.3880\n"
     ]
    }
   ],
   "source": [
    "model = build_mlp(input_shape=x_train.shape[1:], drp_ratio=Dropout_EXP)\n",
    "model.summary()\n",
    "\n",
    "# optimizer = keras.optimizers.SGD(lr=LEARNING_RATE, nesterov=True, momentum=MOMENTUM)\n",
    "# model.compile(loss=\"categorical_crossentropy\", metrics=[\"accuracy\"], optimizer=optimizer)\n",
    "\n",
    "model.compile(loss=\"categorical_crossentropy\", metrics=[\"accuracy\"], optimizer='Adam')\n",
    "\n",
    "model.fit(x_train, y_train, \n",
    "          epochs=EPOCHS, \n",
    "          batch_size=BATCH_SIZE, \n",
    "          validation_data=(x_test, y_test), \n",
    "          shuffle=True)\n",
    "\n",
    "# Collect results\n",
    "train_loss = model.history.history[\"loss\"]\n",
    "valid_loss = model.history.history[\"val_loss\"]\n",
    "train_acc = model.history.history[\"acc\"]\n",
    "valid_acc = model.history.history[\"val_acc\"]"
   ]
  },
  {
   "cell_type": "code",
   "execution_count": 9,
   "metadata": {},
   "outputs": [
    {
     "data": {
      "image/png": "[encoded data removed]",
      "text/plain": [
       "<Figure size 432x288 with 1 Axes>"
      ]
     },
     "metadata": {
      "needs_background": "light"
     },
     "output_type": "display_data"
    },
    {
     "data": {
      "image/png": "[encoded data removed]",
      "text/plain": [
       "<Figure size 432x288 with 1 Axes>"
      ]
     },
     "metadata": {
      "needs_background": "light"
     },
     "output_type": "display_data"
    }
   ],
   "source": [
    "import matplotlib.pyplot as plt\n",
    "%matplotlib inline\n",
    "\n",
    "plt.plot(range(len(train_loss)), train_loss, label=\"train loss\")\n",
    "plt.plot(range(len(valid_loss)), valid_loss, label=\"valid loss\")\n",
    "plt.legend()\n",
    "plt.title(\"Loss\")\n",
    "plt.show()\n",
    "\n",
    "plt.plot(range(len(train_acc)), train_acc, label=\"train accuracy\")\n",
    "plt.plot(range(len(valid_acc)), valid_acc, label=\"valid accuracy\")\n",
    "plt.legend()\n",
    "plt.title(\"Accuracy\")\n",
    "plt.show()"
   ]
  }
 ],
 "metadata": {
  "kernelspec": {
   "display_name": "Python 3",
   "language": "python",
   "name": "python3"
  },
  "language_info": {
   "codemirror_mode": {
    "name": "ipython",
    "version": 3
   },
   "file_extension": ".py",
   "mimetype": "text/x-python",
   "name": "python",
   "nbconvert_exporter": "python",
   "pygments_lexer": "ipython3",
   "version": "3.7.3"
  }
 },
 "nbformat": 4,
 "nbformat_minor": 2
}
