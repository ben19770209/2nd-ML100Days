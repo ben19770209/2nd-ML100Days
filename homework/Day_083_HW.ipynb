{
 "cells": [
  {
   "cell_type": "code",
   "execution_count": 18,
   "metadata": {},
   "outputs": [],
   "source": [
    "# https://github.com/plaidml/plaidml\n",
    "# https://informatics.sydney.edu.au/blogs/amdgpu/\n",
    "\n",
    "# Install the plaidml backend\n",
    "import plaidml.keras\n",
    "plaidml.keras.install_backend()"
   ]
  },
  {
   "cell_type": "markdown",
   "metadata": {},
   "source": [
    "## Work\n",
    "1. 試比較有 BN 在 Batch_size = 2, 16, 32, 128, 256 下的差異\n",
    "2. 請嘗試將 BN 放在 Activation 之前，並比較訓練結果\n",
    "3. 請於 BN 放在 Input Layer 後，並比較結果"
   ]
  },
  {
   "cell_type": "code",
   "execution_count": 19,
   "metadata": {},
   "outputs": [],
   "source": [
    "import os\n",
    "import keras\n",
    "import itertools\n",
    "# Disable GPU\n",
    "os.environ[\"CUDA_VISIBLE_DEVICES\"] = \"\""
   ]
  },
  {
   "cell_type": "code",
   "execution_count": 20,
   "metadata": {},
   "outputs": [],
   "source": [
    "train, test = keras.datasets.cifar10.load_data()"
   ]
  },
  {
   "cell_type": "code",
   "execution_count": 21,
   "metadata": {},
   "outputs": [],
   "source": [
    "## 資料前處理\n",
    "def preproc_x(x, flatten=True):\n",
    "    x = x / 255.\n",
    "    if flatten:\n",
    "        x = x.reshape((len(x), -1))\n",
    "    return x\n",
    "\n",
    "def preproc_y(y, num_classes=10):\n",
    "    if y.shape[-1] == 1:\n",
    "        y = keras.utils.to_categorical(y, num_classes)\n",
    "    return y    "
   ]
  },
  {
   "cell_type": "code",
   "execution_count": 22,
   "metadata": {},
   "outputs": [],
   "source": [
    "x_train, y_train = train\n",
    "x_test, y_test = test\n",
    "\n",
    "# Preproc the inputs\n",
    "x_train = preproc_x(x_train)\n",
    "x_test = preproc_x(x_test)\n",
    "\n",
    "# Preprc the outputs\n",
    "y_train = preproc_y(y_train)\n",
    "y_test = preproc_y(y_test)"
   ]
  },
  {
   "cell_type": "code",
   "execution_count": 23,
   "metadata": {},
   "outputs": [],
   "source": [
    "from keras.layers import BatchNormalization\n",
    "\n",
    "\"\"\"\n",
    "建立神經網路，並加入 BN layer\n",
    "\"\"\"\n",
    "def build_mlp(input_shape, output_units=10, num_neurons=[512, 256, 128]):\n",
    "    input_layer = keras.layers.Input(input_shape)\n",
    "\n",
    "    x = BatchNormalization()(input_layer)\n",
    "    \n",
    "    for i, n_units in enumerate(num_neurons):\n",
    "        if i == 0:\n",
    "            x = keras.layers.Dense(units=n_units, \n",
    "                                   activation=\"relu\", \n",
    "                                   name=\"hidden_layer\"+str(i+1))(x)\n",
    "            \n",
    "            x = BatchNormalization()(x)\n",
    "            \n",
    "        else:\n",
    "\n",
    "            x = keras.layers.Dense(units=n_units, \n",
    "                                   activation=\"relu\", \n",
    "                                   name=\"hidden_layer\"+str(i+1))(x)\n",
    "    \n",
    "            x = BatchNormalization()(x)\n",
    "            \n",
    "    out = keras.layers.Dense(units=output_units, activation=\"softmax\", name=\"output\")(x)\n",
    "    \n",
    "    model = keras.models.Model(inputs=[input_layer], outputs=[out])\n",
    "    return model"
   ]
  },
  {
   "cell_type": "code",
   "execution_count": 24,
   "metadata": {},
   "outputs": [],
   "source": [
    "## 超參數設定\n",
    "LEARNING_RATE = 1e-3\n",
    "EPOCHS = 50\n",
    "BATCH_SIZE = 256\n",
    "MOMENTUM = 0.95"
   ]
  },
  {
   "cell_type": "code",
   "execution_count": 25,
   "metadata": {
    "scrolled": true
   },
   "outputs": [
    {
     "name": "stdout",
     "output_type": "stream",
     "text": [
      "_________________________________________________________________\n",
      "Layer (type)                 Output Shape              Param #   \n",
      "=================================================================\n",
      "input_3 (InputLayer)         (None, 3072)              0         \n",
      "_________________________________________________________________\n",
      "batch_normalization_4 (Batch (None, 3072)              12288     \n",
      "_________________________________________________________________\n",
      "hidden_layer1 (Dense)        (None, 512)               1573376   \n",
      "_________________________________________________________________\n",
      "batch_normalization_5 (Batch (None, 512)               2048      \n",
      "_________________________________________________________________\n",
      "hidden_layer2 (Dense)        (None, 256)               131328    \n",
      "_________________________________________________________________\n",
      "batch_normalization_6 (Batch (None, 256)               1024      \n",
      "_________________________________________________________________\n",
      "hidden_layer3 (Dense)        (None, 128)               32896     \n",
      "_________________________________________________________________\n",
      "batch_normalization_7 (Batch (None, 128)               512       \n",
      "_________________________________________________________________\n",
      "output (Dense)               (None, 10)                1290      \n",
      "=================================================================\n",
      "Total params: 1,754,762\n",
      "Trainable params: 1,746,826\n",
      "Non-trainable params: 7,936\n",
      "_________________________________________________________________\n",
      "Train on 50000 samples, validate on 10000 samples\n",
      "Epoch 1/50\n",
      "50000/50000 [==============================] - 20s 405us/step - loss: 1.8554 - acc: 0.3651 - val_loss: 1.7565 - val_acc: 0.3783\n",
      "Epoch 2/50\n",
      "50000/50000 [==============================] - 10s 199us/step - loss: 1.4974 - acc: 0.4759 - val_loss: 1.5227 - val_acc: 0.4601\n",
      "Epoch 3/50\n",
      "50000/50000 [==============================] - 10s 196us/step - loss: 1.3764 - acc: 0.5180 - val_loss: 1.4622 - val_acc: 0.4845\n",
      "Epoch 4/50\n",
      "50000/50000 [==============================] - 10s 198us/step - loss: 1.2853 - acc: 0.5510 - val_loss: 1.4317 - val_acc: 0.4966\n",
      "Epoch 5/50\n",
      "50000/50000 [==============================] - 10s 196us/step - loss: 1.2044 - acc: 0.5804 - val_loss: 1.4197 - val_acc: 0.5020\n",
      "Epoch 6/50\n",
      "50000/50000 [==============================] - 10s 197us/step - loss: 1.1343 - acc: 0.6060 - val_loss: 1.4114 - val_acc: 0.5050\n",
      "Epoch 7/50\n",
      "50000/50000 [==============================] - 10s 196us/step - loss: 1.0638 - acc: 0.6327 - val_loss: 1.4065 - val_acc: 0.5080\n",
      "Epoch 8/50\n",
      "50000/50000 [==============================] - 10s 197us/step - loss: 1.0019 - acc: 0.6546 - val_loss: 1.4162 - val_acc: 0.5055\n",
      "Epoch 9/50\n",
      "50000/50000 [==============================] - 10s 198us/step - loss: 0.9377 - acc: 0.6816 - val_loss: 1.4167 - val_acc: 0.5170\n",
      "Epoch 10/50\n",
      "50000/50000 [==============================] - 10s 195us/step - loss: 0.8786 - acc: 0.7021 - val_loss: 1.4387 - val_acc: 0.5140\n",
      "Epoch 11/50\n",
      "50000/50000 [==============================] - 10s 196us/step - loss: 0.8214 - acc: 0.7247 - val_loss: 1.4462 - val_acc: 0.5165\n",
      "Epoch 12/50\n",
      "50000/50000 [==============================] - 10s 196us/step - loss: 0.7638 - acc: 0.7462 - val_loss: 1.4710 - val_acc: 0.5222\n",
      "Epoch 13/50\n",
      "50000/50000 [==============================] - 10s 201us/step - loss: 0.7117 - acc: 0.7648 - val_loss: 1.4951 - val_acc: 0.5099\n",
      "Epoch 14/50\n",
      "50000/50000 [==============================] - 10s 198us/step - loss: 0.6609 - acc: 0.7835 - val_loss: 1.5176 - val_acc: 0.5124\n",
      "Epoch 15/50\n",
      "50000/50000 [==============================] - 10s 195us/step - loss: 0.6083 - acc: 0.8043 - val_loss: 1.5288 - val_acc: 0.516378 - acc: 0.80\n",
      "Epoch 16/50\n",
      "50000/50000 [==============================] - 10s 199us/step - loss: 0.5577 - acc: 0.8230 - val_loss: 1.5725 - val_acc: 0.5137\n",
      "Epoch 17/50\n",
      "50000/50000 [==============================] - 10s 200us/step - loss: 0.5156 - acc: 0.8382 - val_loss: 1.6120 - val_acc: 0.5104\n",
      "Epoch 18/50\n",
      "50000/50000 [==============================] - 10s 206us/step - loss: 0.4732 - acc: 0.8531 - val_loss: 1.6315 - val_acc: 0.5147\n",
      "Epoch 19/50\n",
      "50000/50000 [==============================] - 10s 197us/step - loss: 0.4309 - acc: 0.8710 - val_loss: 1.6874 - val_acc: 0.5037\n",
      "Epoch 20/50\n",
      "50000/50000 [==============================] - 10s 196us/step - loss: 0.3931 - acc: 0.8833 - val_loss: 1.7393 - val_acc: 0.5082\n",
      "Epoch 21/50\n",
      "50000/50000 [==============================] - 10s 195us/step - loss: 0.3574 - acc: 0.8948 - val_loss: 1.7762 - val_acc: 0.5029\n",
      "Epoch 22/50\n",
      "50000/50000 [==============================] - 10s 198us/step - loss: 0.3267 - acc: 0.9065 - val_loss: 1.7935 - val_acc: 0.5096\n",
      "Epoch 23/50\n",
      "50000/50000 [==============================] - 10s 196us/step - loss: 0.2936 - acc: 0.9182 - val_loss: 1.8353 - val_acc: 0.5102\n",
      "Epoch 24/50\n",
      "50000/50000 [==============================] - 10s 201us/step - loss: 0.2650 - acc: 0.9281 - val_loss: 1.8864 - val_acc: 0.5058\n",
      "Epoch 25/50\n",
      "50000/50000 [==============================] - 10s 204us/step - loss: 0.2427 - acc: 0.9364 - val_loss: 1.9360 - val_acc: 0.5038\n",
      "Epoch 26/50\n",
      "50000/50000 [==============================] - 10s 198us/step - loss: 0.2166 - acc: 0.9446 - val_loss: 1.9436 - val_acc: 0.5136\n",
      "Epoch 27/50\n",
      "50000/50000 [==============================] - 10s 198us/step - loss: 0.2004 - acc: 0.9493 - val_loss: 2.0381 - val_acc: 0.4996\n",
      "Epoch 28/50\n",
      "50000/50000 [==============================] - 10s 195us/step - loss: 0.1770 - acc: 0.9574 - val_loss: 2.0415 - val_acc: 0.5002\n",
      "Epoch 29/50\n",
      "50000/50000 [==============================] - 10s 196us/step - loss: 0.1615 - acc: 0.9629 - val_loss: 2.0963 - val_acc: 0.4998\n",
      "Epoch 30/50\n",
      "50000/50000 [==============================] - 10s 198us/step - loss: 0.1452 - acc: 0.9679 - val_loss: 2.1127 - val_acc: 0.5032\n",
      "Epoch 31/50\n",
      "50000/50000 [==============================] - 10s 194us/step - loss: 0.1373 - acc: 0.9684 - val_loss: 2.1617 - val_acc: 0.4992\n",
      "Epoch 32/50\n",
      "50000/50000 [==============================] - 10s 197us/step - loss: 0.1243 - acc: 0.9722 - val_loss: 2.1790 - val_acc: 0.5043\n",
      "Epoch 33/50\n",
      "50000/50000 [==============================] - 10s 197us/step - loss: 0.1106 - acc: 0.9768 - val_loss: 2.1968 - val_acc: 0.5003\n",
      "Epoch 34/50\n",
      "50000/50000 [==============================] - 10s 196us/step - loss: 0.0989 - acc: 0.9809 - val_loss: 2.2764 - val_acc: 0.5009\n",
      "Epoch 35/50\n",
      "50000/50000 [==============================] - 10s 197us/step - loss: 0.0933 - acc: 0.9809 - val_loss: 2.2979 - val_acc: 0.4954\n",
      "Epoch 36/50\n",
      "50000/50000 [==============================] - 10s 194us/step - loss: 0.0880 - acc: 0.9829 - val_loss: 2.3180 - val_acc: 0.5055\n",
      "Epoch 37/50\n",
      "50000/50000 [==============================] - 10s 202us/step - loss: 0.0818 - acc: 0.9839 - val_loss: 2.3532 - val_acc: 0.4995\n",
      "Epoch 38/50\n",
      "50000/50000 [==============================] - 11s 213us/step - loss: 0.0783 - acc: 0.9848 - val_loss: 2.3658 - val_acc: 0.5021\n",
      "Epoch 39/50\n",
      "50000/50000 [==============================] - 10s 199us/step - loss: 0.0697 - acc: 0.9876 - val_loss: 2.3794 - val_acc: 0.50304 -  - ETA: 0s - loss: 0.0694 - acc\n",
      "Epoch 40/50\n",
      "50000/50000 [==============================] - 10s 197us/step - loss: 0.0640 - acc: 0.9888 - val_loss: 2.4200 - val_acc: 0.5034\n",
      "Epoch 41/50\n",
      "50000/50000 [==============================] - 10s 197us/step - loss: 0.0566 - acc: 0.9909 - val_loss: 2.4530 - val_acc: 0.5050\n",
      "Epoch 42/50\n",
      "50000/50000 [==============================] - 10s 197us/step - loss: 0.0531 - acc: 0.9913 - val_loss: 2.4743 - val_acc: 0.5012\n",
      "Epoch 43/50\n",
      "50000/50000 [==============================] - 11s 211us/step - loss: 0.0511 - acc: 0.9919 - val_loss: 2.4809 - val_acc: 0.5050\n",
      "Epoch 44/50\n",
      "50000/50000 [==============================] - 10s 196us/step - loss: 0.0469 - acc: 0.9933 - val_loss: 2.4995 - val_acc: 0.5040\n",
      "Epoch 45/50\n",
      "50000/50000 [==============================] - 10s 197us/step - loss: 0.0455 - acc: 0.9928 - val_loss: 2.5323 - val_acc: 0.5034\n",
      "Epoch 46/50\n",
      "50000/50000 [==============================] - 10s 196us/step - loss: 0.0453 - acc: 0.9926 - val_loss: 2.5329 - val_acc: 0.5034\n",
      "Epoch 47/50\n",
      "50000/50000 [==============================] - 10s 197us/step - loss: 0.0389 - acc: 0.9943 - val_loss: 2.5781 - val_acc: 0.4985\n"
     ]
    },
    {
     "name": "stdout",
     "output_type": "stream",
     "text": [
      "Epoch 48/50\n",
      "50000/50000 [==============================] - 10s 195us/step - loss: 0.0388 - acc: 0.9939 - val_loss: 2.5662 - val_acc: 0.5004\n",
      "Epoch 49/50\n",
      "50000/50000 [==============================] - 10s 195us/step - loss: 0.0344 - acc: 0.9952 - val_loss: 2.5986 - val_acc: 0.5030\n",
      "Epoch 50/50\n",
      "50000/50000 [==============================] - 10s 197us/step - loss: 0.0311 - acc: 0.9962 - val_loss: 2.6010 - val_acc: 0.5056\n"
     ]
    }
   ],
   "source": [
    "model = build_mlp(input_shape=x_train.shape[1:])\n",
    "model.summary()\n",
    "optimizer = keras.optimizers.SGD(lr=LEARNING_RATE, nesterov=True, momentum=MOMENTUM)\n",
    "model.compile(loss=\"categorical_crossentropy\", metrics=[\"accuracy\"], optimizer=optimizer)\n",
    "\n",
    "model.fit(x_train, y_train, \n",
    "          epochs=EPOCHS, \n",
    "          batch_size=BATCH_SIZE, \n",
    "          validation_data=(x_test, y_test), \n",
    "          shuffle=True)\n",
    "\n",
    "# Collect results\n",
    "train_loss = model.history.history[\"loss\"]\n",
    "valid_loss = model.history.history[\"val_loss\"]\n",
    "train_acc = model.history.history[\"acc\"]\n",
    "valid_acc = model.history.history[\"val_acc\"]"
   ]
  },
  {
   "cell_type": "code",
   "execution_count": 26,
   "metadata": {},
   "outputs": [
    {
     "data": {
      "image/png": "[encoded data removed]",
      "text/plain": [
       "<Figure size 432x288 with 1 Axes>"
      ]
     },
     "metadata": {
      "needs_background": "light"
     },
     "output_type": "display_data"
    },
    {
     "data": {
      "image/png": "[encoded data removed]",
      "text/plain": [
       "<Figure size 432x288 with 1 Axes>"
      ]
     },
     "metadata": {
      "needs_background": "light"
     },
     "output_type": "display_data"
    }
   ],
   "source": [
    "import matplotlib.pyplot as plt\n",
    "%matplotlib inline\n",
    "\n",
    "plt.plot(range(len(train_loss)), train_loss, label=\"train loss\")\n",
    "plt.plot(range(len(valid_loss)), valid_loss, label=\"valid loss\")\n",
    "plt.legend()\n",
    "plt.title(\"Loss\")\n",
    "plt.show()\n",
    "\n",
    "plt.plot(range(len(train_acc)), train_acc, label=\"train accuracy\")\n",
    "plt.plot(range(len(valid_acc)), valid_acc, label=\"valid accuracy\")\n",
    "plt.legend()\n",
    "plt.title(\"Accuracy\")\n",
    "plt.show()"
   ]
  }
 ],
 "metadata": {
  "kernelspec": {
   "display_name": "Python 3",
   "language": "python",
   "name": "python3"
  },
  "language_info": {
   "codemirror_mode": {
    "name": "ipython",
    "version": 3
   },
   "file_extension": ".py",
   "mimetype": "text/x-python",
   "name": "python",
   "nbconvert_exporter": "python",
   "pygments_lexer": "ipython3",
   "version": "3.7.3"
  }
 },
 "nbformat": 4,
 "nbformat_minor": 2
}
